{
 "cells": [
  {
   "cell_type": "markdown",
   "metadata": {},
   "source": [
    "[![Open In Colab](https://colab.research.google.com/assets/colab-badge.svg)](https://colab.research.google.com/github/MauricioRR-Tec/Machine-Learning/blob/master/Notebooks/Module_2/ComplementoRegresionLineal.ipynb)"
   ]
  },
  {
   "cell_type": "markdown",
   "metadata": {},
   "source": [
    "# Complemento de Regresión Lineal\n",
    "\n",
    "---\n",
    "\n",
    "## Contenido de la Sección\n",
    "\n",
    "\n",
    "1.   Regresión Lineal Simple\n",
    "2.   Regresión Lineal Múltiple\n",
    "3.   Selección de Características\n",
    "4.   Regresión Polinomial\n",
    "5.   Regresión Logística (Clasificación)\n",
    "6.   Evaluando el error en los modelos de clasificación\n",
    "7.   Curvas ROC y Área bajo la curva (AUC)\n"
   ]
  },
  {
   "cell_type": "markdown",
   "metadata": {},
   "source": [
    "## 1.- Regresión Lineal Simple\n",
    "El objetivo de Regresión Lineal es minimizar la distancia vertical entre todos los datos y nuestra línea que vendría siendo el modelo, por lo tanto, para determinar la mejor línea, debemos minimizar la distancia entre todos los puntos y la distancia de nuestra línea. "
   ]
  },
  {
   "cell_type": "markdown",
   "metadata": {},
   "source": [
    "Podemos buscar diversas librerías que implementan el modelo de regresión lineal. Por el momento sigamos con la que proporciona Scikit-Learn.\n",
    "\n",
    "Tenemos la función llamada LinearRegression para hacer justamente este trabajo, y ahorrarnos todos los cálculos matemáticos (pero sería bueno que sepan su teoría)."
   ]
  },
  {
   "cell_type": "code",
   "execution_count": 1,
   "metadata": {},
   "outputs": [
    {
     "name": "stdout",
     "output_type": "stream",
     "text": [
      "<class 'sklearn.utils.Bunch'>\n"
     ]
    }
   ],
   "source": [
    "########## LIBRERÍAS A UTILIZAR ##########\n",
    "#Se importan la librerias a utilizar\n",
    "import numpy as np\n",
    "from sklearn import datasets, linear_model\n",
    "import matplotlib.pyplot as plt\n",
    "########## PREPARAR LA DATA ##########\n",
    "#Importamos los datos de la misma librería de scikit-learn\n",
    "boston = datasets.load_boston()\n",
    "print(type(boston))"
   ]
  },
  {
   "cell_type": "code",
   "execution_count": 2,
   "metadata": {},
   "outputs": [
    {
     "name": "stdout",
     "output_type": "stream",
     "text": [
      "Información en el dataset:\n",
      "dict_keys(['data', 'target', 'feature_names', 'DESCR', 'filename'])\n"
     ]
    }
   ],
   "source": [
    "########## ENTENDIMIENTO DE LA DATA ##########\n",
    "#Verifico la información contenida en el dataset\n",
    "print('Información en el dataset:')\n",
    "print(boston.keys())"
   ]
  },
  {
   "cell_type": "code",
   "execution_count": 3,
   "metadata": {},
   "outputs": [
    {
     "name": "stdout",
     "output_type": "stream",
     "text": [
      "Características del dataset:\n",
      ".. _boston_dataset:\n",
      "\n",
      "Boston house prices dataset\n",
      "---------------------------\n",
      "\n",
      "**Data Set Characteristics:**  \n",
      "\n",
      "    :Number of Instances: 506 \n",
      "\n",
      "    :Number of Attributes: 13 numeric/categorical predictive. Median Value (attribute 14) is usually the target.\n",
      "\n",
      "    :Attribute Information (in order):\n",
      "        - CRIM     per capita crime rate by town\n",
      "        - ZN       proportion of residential land zoned for lots over 25,000 sq.ft.\n",
      "        - INDUS    proportion of non-retail business acres per town\n",
      "        - CHAS     Charles River dummy variable (= 1 if tract bounds river; 0 otherwise)\n",
      "        - NOX      nitric oxides concentration (parts per 10 million)\n",
      "        - RM       average number of rooms per dwelling\n",
      "        - AGE      proportion of owner-occupied units built prior to 1940\n",
      "        - DIS      weighted distances to five Boston employment centres\n",
      "        - RAD      index of accessibility to radial highways\n",
      "        - TAX      full-value property-tax rate per $10,000\n",
      "        - PTRATIO  pupil-teacher ratio by town\n",
      "        - B        1000(Bk - 0.63)^2 where Bk is the proportion of blacks by town\n",
      "        - LSTAT    % lower status of the population\n",
      "        - MEDV     Median value of owner-occupied homes in $1000's\n",
      "\n",
      "    :Missing Attribute Values: None\n",
      "\n",
      "    :Creator: Harrison, D. and Rubinfeld, D.L.\n",
      "\n",
      "This is a copy of UCI ML housing dataset.\n",
      "https://archive.ics.uci.edu/ml/machine-learning-databases/housing/\n",
      "\n",
      "\n",
      "This dataset was taken from the StatLib library which is maintained at Carnegie Mellon University.\n",
      "\n",
      "The Boston house-price data of Harrison, D. and Rubinfeld, D.L. 'Hedonic\n",
      "prices and the demand for clean air', J. Environ. Economics & Management,\n",
      "vol.5, 81-102, 1978.   Used in Belsley, Kuh & Welsch, 'Regression diagnostics\n",
      "...', Wiley, 1980.   N.B. Various transformations are used in the table on\n",
      "pages 244-261 of the latter.\n",
      "\n",
      "The Boston house-price data has been used in many machine learning papers that address regression\n",
      "problems.   \n",
      "     \n",
      ".. topic:: References\n",
      "\n",
      "   - Belsley, Kuh & Welsch, 'Regression diagnostics: Identifying Influential Data and Sources of Collinearity', Wiley, 1980. 244-261.\n",
      "   - Quinlan,R. (1993). Combining Instance-Based and Model-Based Learning. In Proceedings on the Tenth International Conference of Machine Learning, 236-243, University of Massachusetts, Amherst. Morgan Kaufmann.\n",
      "\n"
     ]
    }
   ],
   "source": [
    "#Verifico las características del dataset\n",
    "print('Características del dataset:')\n",
    "print(boston.DESCR)"
   ]
  },
  {
   "cell_type": "code",
   "execution_count": 4,
   "metadata": {},
   "outputs": [
    {
     "name": "stdout",
     "output_type": "stream",
     "text": [
      "Cantidad de datos:\n",
      "(506, 13)\n",
      "\n",
      "Nombres columnas:\n",
      "['CRIM' 'ZN' 'INDUS' 'CHAS' 'NOX' 'RM' 'AGE' 'DIS' 'RAD' 'TAX' 'PTRATIO'\n",
      " 'B' 'LSTAT']\n"
     ]
    },
    {
     "data": {
      "image/png": "[encoded data removed]",
      "text/plain": [
       "<Figure size 432x288 with 1 Axes>"
      ]
     },
     "metadata": {
      "needs_background": "light"
     },
     "output_type": "display_data"
    }
   ],
   "source": [
    "#Verifico la cantidad de datos que hay en los dataset\n",
    "print('Cantidad de datos:')\n",
    "print(boston.data.shape)\n",
    "print()\n",
    "#Verifico la información de las columnas\n",
    "print('Nombres columnas:')\n",
    "print(boston.feature_names)\n",
    "########## PREPARAR LA DATA REGRESIÓN LINEAL SIMPLE ##########\n",
    "#Seleccionamos solamente la columna 5 del dataset\n",
    "X = boston.data[:, np.newaxis, 5]\n",
    "#Defino los datos correspondientes a las etiquetas\n",
    "y = boston.target\n",
    "#Graficamos los datos correspondientes\n",
    "plt.scatter(X, y)\n",
    "plt.xlabel('Número de habitaciones')\n",
    "plt.ylabel('Valor medio')\n",
    "plt.show()"
   ]
  },
  {
   "cell_type": "markdown",
   "metadata": {},
   "source": [
    "A simple vista ya puedo deducir que el modelo de Regresión Lineal que vamos a construir tendrá un error muy alto, pero esto lo explicaré más adelante, pero continuemos con nuestro análisis."
   ]
  },
  {
   "cell_type": "code",
   "execution_count": 5,
   "metadata": {},
   "outputs": [
    {
     "data": {
      "image/png": "[encoded data removed]",
      "text/plain": [
       "<Figure size 432x288 with 1 Axes>"
      ]
     },
     "metadata": {
      "needs_background": "light"
     },
     "output_type": "display_data"
    }
   ],
   "source": [
    "########## IMPLEMENTACIÓN DE REGRESIÓN LINEAL SIMPLE ##########\n",
    "from sklearn.model_selection import train_test_split\n",
    "#Separo los datos de \"train\" en entrenamiento y prueba para probar los algoritmos\n",
    "X_train, X_test, y_train, y_test = train_test_split(X, y, test_size=0.2)\n",
    "#Defino el algoritmo a utilizar\n",
    "lr = linear_model.LinearRegression()\n",
    "#Entreno el modelo\n",
    "lr.fit(X_train, y_train)\n",
    "#Realizo una predicción\n",
    "Y_pred = lr.predict(X_test)\n",
    "#Graficamos los datos junto con el modelo\n",
    "plt.scatter(X_test, y_test)\n",
    "plt.plot(X_test, Y_pred, color='red', linewidth=3)\n",
    "plt.title('Regresión Lineal Simple')\n",
    "plt.xlabel('Número de habitaciones')\n",
    "plt.ylabel('Valor medio')\n",
    "plt.show()"
   ]
  },
  {
   "cell_type": "code",
   "execution_count": 6,
   "metadata": {},
   "outputs": [
    {
     "name": "stdout",
     "output_type": "stream",
     "text": [
      "DATOS DEL MODELO REGRESIÓN LINEAL SIMPLE\n",
      "Valor de la pendiente o coeficiente \"a\":\n",
      "[8.80674723]\n",
      "\n",
      "Valor de la intersección o coeficiente \"b\":\n",
      "-32.98703151946113\n",
      "\n",
      "La ecuación del modelo es igual a:\n",
      "y =  [8.80674723] x  -32.98703151946113\n",
      "\n",
      "Precisión del modelo:\n",
      "0.45471337238806697\n"
     ]
    }
   ],
   "source": [
    "print('DATOS DEL MODELO REGRESIÓN LINEAL SIMPLE')\n",
    "print('Valor de la pendiente o coeficiente \"a\":')\n",
    "print(lr.coef_)\n",
    "print()\n",
    "print('Valor de la intersección o coeficiente \"b\":')\n",
    "print(lr.intercept_)\n",
    "print()\n",
    "print('La ecuación del modelo es igual a:')\n",
    "print('y = ', lr.coef_, 'x ', lr.intercept_)\n",
    "print()\n",
    "print('Precisión del modelo:')\n",
    "print(lr.score(X_train, y_train))"
   ]
  },
  {
   "cell_type": "markdown",
   "metadata": {},
   "source": [
    "## 2.- Regresión Lineal Múltiple\n",
    "\n",
    "La Regresión Lineal Múltiple es muy parecida a la simple, pero acá se manejan múltiples variables independientes que contribuyen a la variable dependiente. Se manejan múltiples coeficientes y a su vez es computacionalmente más compleja debido a las variables añadidas.\n",
    "\n",
    "---\n",
    "Generalmente, cuando se trata de Regresión Lineal múltiple no incluimos todas las variables independientes a la vez y posteriormente comenzamos a minimizar la función de error. \n",
    "* Lo primero que se debe hacer es enfocarse en seleccionar las mejores variables independientes que puedan contribuir a la variable dependiente. Para esto, debemos construir una matriz de correlación para todas las variables independiente e incluimos la variable dependiente.\n",
    "\n",
    "El valor de correlación nos da una idea de qué variable es significativa y por qué factor. A partir de esta matriz, elegimos las variables independientes en orden decreciente de valor de correlación y ejecutamos el modelo de regresión para estimar los coeficientes minimizando la función de error.\n",
    "\n",
    "**Lo importante que tienes que tomar en cuenta con este método es que agregar más variables independientes no significa que la regresión sea mejor u ofrece mejores predicciones. La Regresión Lineal múltiple y simple tiene diferentes casos de uso, uno no es superior**. \n",
    "\n",
    "En algunos casos, agregar más variables independientes puede empeorar las cosas, esto se conoce como ajuste excesivo."
   ]
  },
  {
   "cell_type": "code",
   "execution_count": 7,
   "metadata": {},
   "outputs": [],
   "source": [
    "########## LIBRERÍAS A UTILIZAR ##########\n",
    "#Se importan la librerias a utilizar\n",
    "from sklearn import datasets, linear_model\n",
    "########## PREPARAR LA DATA ##########\n",
    "#Importamos los datos de la misma librería de scikit-learn\n",
    "boston = datasets.load_boston()"
   ]
  },
  {
   "cell_type": "code",
   "execution_count": 8,
   "metadata": {},
   "outputs": [
    {
     "name": "stdout",
     "output_type": "stream",
     "text": [
      "Información en el dataset:\n",
      "dict_keys(['data', 'target', 'feature_names', 'DESCR', 'filename'])\n",
      "Cantidad de datos:\n",
      "(506, 13)\n",
      "Nombres columnas:\n",
      "['CRIM' 'ZN' 'INDUS' 'CHAS' 'NOX' 'RM' 'AGE' 'DIS' 'RAD' 'TAX' 'PTRATIO'\n",
      " 'B' 'LSTAT']\n"
     ]
    }
   ],
   "source": [
    "########## ENTENDIMIENTO DE LA DATA ##########\n",
    "#Verifico la información contenida en el dataset\n",
    "print('Información en el dataset:')\n",
    "print(boston.keys())\n",
    "#Verifico las características del dataset\n",
    "#print('Características del dataset:')\n",
    "#print(boston.DESCR)\n",
    "#Verifico la cantidad de datos que hay en los dataset\n",
    "print('Cantidad de datos:')\n",
    "print(boston.data.shape)\n",
    "#Verifico la información de las columnas\n",
    "print('Nombres columnas:')\n",
    "print(boston.feature_names)"
   ]
  },
  {
   "cell_type": "code",
   "execution_count": 9,
   "metadata": {},
   "outputs": [],
   "source": [
    "# Compute the correlation matrix\n",
    "import pandas as pd\n",
    "import seaborn as sns; sns.set()\n",
    "test = pd.DataFrame(boston.data)\n",
    "test.columns = ['CRIM', 'ZN', 'INDUS', 'CHAS', 'NOX', 'RM', 'AGE', 'DIS', 'RAD', 'TAX', 'PTRATIO', 'B', 'LSTAT']\n",
    "test = pd.concat([test, pd.DataFrame(boston.target)], axis=1, sort=False)"
   ]
  },
  {
   "cell_type": "code",
   "execution_count": 10,
   "metadata": {},
   "outputs": [
    {
     "data": {
      "text/plain": [
       "<matplotlib.axes._subplots.AxesSubplot at 0x266df644e88>"
      ]
     },
     "execution_count": 10,
     "metadata": {},
     "output_type": "execute_result"
    },
    {
     "data": {
      "image/png": "[encoded data removed]",
      "text/plain": [
       "<Figure size 648x648 with 2 Axes>"
      ]
     },
     "metadata": {},
     "output_type": "display_data"
    }
   ],
   "source": [
    "corr_mtx = test.corr()\n",
    "# corr_mtx = Train_df.corr('spearman')\n",
    "\n",
    "# Generate a mask for the upper triangle\n",
    "# mask = np.triu(np.ones_like(corr_mtx, dtype=np.bool))\n",
    "\n",
    "f, ax = plt.subplots(figsize=(9, 9))\n",
    "sns.heatmap(corr_mtx, \n",
    "            # mask=mask, \n",
    "            cmap=sns.color_palette(\"coolwarm\", 20))"
   ]
  },
  {
   "cell_type": "markdown",
   "metadata": {},
   "source": [
    "Para este ejemplo vamos a implementar un predictor de Regresión Lineal Múltiple, por lo que podemos tomar varios atributos de nuestros datos para crear el modelo. \n",
    "\n",
    "Para nuestro análisis solamente vamos a tomar las columnas correspondientes al número de habitaciones con las que cuenta la casa, esta sería la que lleva por nombre “RM”, el tiempo que ha tenido ocupada, correspondiente a la columna “AGE” y la distancia que se encuentra la misma de los centros de trabajos de Boston que vendría siendo la columna con el nombre “DIS”. Estas columnas se encuentran ubicadas en la posición 5, 6 y 7 de los datos y estas vendrían siendo la variable “X”."
   ]
  },
  {
   "cell_type": "code",
   "execution_count": 11,
   "metadata": {},
   "outputs": [
    {
     "name": "stdout",
     "output_type": "stream",
     "text": [
      "[[ 6.575  65.2     4.09  ]\n",
      " [ 6.421  78.9     4.9671]\n",
      " [ 7.185  61.1     4.9671]\n",
      " ...\n",
      " [ 6.976  91.      2.1675]\n",
      " [ 6.794  89.3     2.3889]\n",
      " [ 6.03   80.8     2.505 ]]\n"
     ]
    }
   ],
   "source": [
    "########## PREPARAR LA DATA REGRESIÓN LINEAL MULTIPLE ##########\n",
    "#Seleccionamos las columna 5, 6 y 7 del dataset\n",
    "X_multiple = boston.data[:, 5:8]\n",
    "print(X_multiple)\n",
    "#Defino los datos correspondientes a las etiquetas\n",
    "y_multiple = boston.target"
   ]
  },
  {
   "cell_type": "code",
   "execution_count": 12,
   "metadata": {},
   "outputs": [
    {
     "name": "stdout",
     "output_type": "stream",
     "text": [
      "DATOS DEL MODELO REGRESIÓN LINEAL MULTIPLE\n",
      "\n",
      "Valor de las pendientes o coeficientes \"a\":\n",
      "[ 8.7420844  -0.11504435 -0.60644945]\n",
      "Valor de la intersección o coeficiente \"b\":\n",
      "-22.395362439209933\n",
      "Precisión del modelo:\n",
      "0.5803074321546948\n"
     ]
    }
   ],
   "source": [
    "########## IMPLEMENTACIÓN DE REGRESIÓN LINEAL MULTIPLE ##########\n",
    "from sklearn.model_selection import train_test_split\n",
    "#Separo los datos de \"train\" en entrenamiento y prueba para probar los algoritmos\n",
    "X_train, X_test, y_train, y_test = train_test_split(X_multiple, y_multiple, test_size=0.2)\n",
    "#Defino el algoritmo a utilizar\n",
    "lr_multiple = linear_model.LinearRegression()\n",
    "#Entreno el modelo\n",
    "lr_multiple.fit(X_train, y_train)\n",
    "#Realizo una predicción\n",
    "Y_pred_multiple = lr_multiple.predict(X_test)\n",
    "print('DATOS DEL MODELO REGRESIÓN LINEAL MULTIPLE')\n",
    "print()\n",
    "print('Valor de las pendientes o coeficientes \"a\":')\n",
    "print(lr_multiple.coef_)\n",
    "print('Valor de la intersección o coeficiente \"b\":')\n",
    "print(lr_multiple.intercept_)\n",
    "print('Precisión del modelo:')\n",
    "print(lr_multiple.score(X_train, y_train))"
   ]
  },
  {
   "cell_type": "markdown",
   "metadata": {},
   "source": [
    "Si comparamos los datos que obtuvimos en la predicción con los datos reales dados por el dataset, no podemos dar cuenta que, al igual que con el modelo obtenido con Regresión Lineal Simple, algunos de los datos son parecidos unos con otros mientras que otros tienen una diferencia considerable entre si, por lo tanto, este modelo no es el más adecuado implementar para este conjunto de datos."
   ]
  },
  {
   "cell_type": "markdown",
   "metadata": {},
   "source": [
    "---\n",
    "## 3.- Selección de Características\n",
    "\n",
    "Todos hemos visto los conjuntos de datos, en ocasiones pueden ser pequeños mientras que otros son tremendamente grandes en tamaño, en especial cuando cuentan con un gran número de características, ocasionando que sean muy difícil de procesar.\n",
    "\n",
    "---\n",
    "\n",
    "Cuando se tiene este de tipo de conjuntos de datos de alta dimensión y se utilizan todas para la creación de modelos de Machine Learning puede ocasionar:\n",
    "\n",
    "    * Las características adicionales actúan como un ruido para el cual el modelo de Machine Learning puede tener un rendimiento extremadamente bajo.\n",
    "    * El modelo tarda más tiempo en entrenarse.\n",
    "    * Asignación de recursos innecesarios para estas características.\n",
    "\n",
    "![img](https://i1.wp.com/live.staticflickr.com/65535/48051757228_e1bc296e7e_c.jpg?resize=800%2C152&ssl=1)\n",
    "\n",
    "Las características se clasifican según los puntajes estadísticos que tienden a determinar la correlación de las características con la variable de resultado, ten en cuenta que la correlación es un término muy contextual y varía de un trabajo a otro.  \n",
    "![img](https://i0.wp.com/live.staticflickr.com/7831/46117112695_05d38a9ac9_c.jpg?resize=800%2C209&ssl=1)"
   ]
  },
  {
   "cell_type": "markdown",
   "metadata": {},
   "source": [
    "* Correlación de Pearson: se usa como una medida para cuantificar la dependencia lineal entre dos variables continuas X e Y, su valor varía de -1 a +1.\n",
    "\n",
    "* LDA: el análisis discriminante lineal se usa para encontrar una combinación lineal de características que caracteriza o separa dos o más clases, o niveles, de una variable categórica.\n",
    "\n",
    "* ANOVA: significa análisis de la varianza y es similar a LDA, excepto por el hecho de que opera mediante una o más funciones independientes categóricas y una función dependiente continua. Proporciona una prueba estadística de si las medias de varios grupos son iguales o no.\n",
    "\n",
    "* Chi-cuadrado: es una prueba estadística que se aplica a los grupos de características categóricas para evaluar la probabilidad de correlación o asociación entre ellos utilizando su distribución de frecuencia. "
   ]
  },
  {
   "cell_type": "markdown",
   "metadata": {},
   "source": [
    "---\n",
    "\n",
    "## 4.- Regresión Polinomial\n",
    "\n",
    "La Regresión Polinomial es un caso especial de la Regresión Lineal, extiende el modelo lineal al agregar predictores adicionales, obtenidos al elevar cada uno de los predictores originales a una potencia. \n",
    "\n",
    "Por ejemplo, una regresión cúbica utiliza tres variables, como predictores. Este enfoque proporciona una forma sencilla de proporcionar un ajuste no lineal a los datos."
   ]
  },
  {
   "cell_type": "markdown",
   "metadata": {},
   "source": [
    "El método estándar para extender la Regresión Lineal a una relación no lineal entre las variables dependientes e independientes, ha sido reemplazar el modelo lineal con una función polinomial.\n",
    "\n",
    "![img](https://i2.wp.com/farm8.staticflickr.com/7919/33176868908_0b05be72d0_c.jpg?resize=800%2C219&ssl=1)\n",
    "\n",
    "---\n",
    "\n",
    "![img](https://i0.wp.com/farm8.staticflickr.com/7897/47000079822_2f49c7b92c_c.jpg?resize=800%2C176&ssl=1)\n",
    "\n",
    "---\n",
    "\n",
    "![img](https://i2.wp.com/farm8.staticflickr.com/7898/33176865448_512b400c15_c.jpg?resize=800%2C165&ssl=1)"
   ]
  },
  {
   "cell_type": "markdown",
   "metadata": {},
   "source": [
    "Ahora quieres tener una Regresión Polinomial está será la formula:\n",
    "\n",
    "![img](https://i1.wp.com/farm8.staticflickr.com/7877/33176866538_e3fcdce5fc_c.jpg?resize=800%2C155&ssl=1)"
   ]
  },
  {
   "cell_type": "markdown",
   "metadata": {},
   "source": [
    "Como se puede observar para la Regresión Polinomial se crean algunas características adicionales que no se encuentran en la Regresión Lineal."
   ]
  },
  {
   "cell_type": "markdown",
   "metadata": {},
   "source": [
    "Un término polinomial, bien sea cuadrático o cúbico, convierte un modelo de regresión lineal en una curva, pero como los datos de “X” son cuadráticos o cúbicos pero el coeficiente “b” no lo es, todavía se califican como un modelo lineal.\n",
    "\n",
    "Esto hace que sea una forma agradable y directa de modelar curvas sin tener que modelar modelos complicados no lineales.\n",
    "\n",
    "---\n",
    "\n",
    "Un patrón común dentro de Machine Learning es usar modelos lineales entrenados en funciones no lineales de los datos. Este enfoque mantiene el rendimiento generalmente rápido de los métodos lineales mientras les permite ajustarse a un rango de datos mucho más amplio.\n",
    "\n",
    "![img](https://dr282zn36sxxg.cloudfront.net/datastreams/f-d%3A9265493d235fd03913dc29dd056780cba02f6cdb4b72968e12d7875b%2BIMAGE_TINY%2BIMAGE_TINY.1)"
   ]
  },
  {
   "cell_type": "markdown",
   "metadata": {},
   "source": [
    "* ¿Qué es una función no lineal?\n",
    "\n",
    "      Una función no lineal es una función en donde los datos no incrementan o disminuyen de forma sistemática o secuencial. En síntesis, una función no lineal no forma una línea recta cuando se grafica. "
   ]
  },
  {
   "cell_type": "markdown",
   "metadata": {},
   "source": [
    "Acá vamos arrancar a preparar los datos para implementar el algoritmo de Regresión Polinomial.\n",
    "\n",
    "Como dijimos al principio vamos a hacer el análisis con los datos correspondientes al número de habitaciones que cuenta la vivienda, estos datos se encuentran ubicados en la columna número 6 de nuestro dataset, por lo que debemos definir esta columna a la variable “X”, en este caso vamos a utilizar “X_p” para representar el algoritmo que estamos utilizando, Regresión Polinomial o Polynomial Regression."
   ]
  },
  {
   "cell_type": "code",
   "execution_count": 13,
   "metadata": {},
   "outputs": [
    {
     "name": "stdout",
     "output_type": "stream",
     "text": [
      "Información en el dataset:\n",
      "dict_keys(['data', 'target', 'feature_names', 'DESCR', 'filename'])\n",
      "Características del dataset:\n",
      ".. _boston_dataset:\n",
      "\n",
      "Boston house prices dataset\n",
      "---------------------------\n",
      "\n",
      "**Data Set Characteristics:**  \n",
      "\n",
      "    :Number of Instances: 506 \n",
      "\n",
      "    :Number of Attributes: 13 numeric/categorical predictive. Median Value (attribute 14) is usually the target.\n",
      "\n",
      "    :Attribute Information (in order):\n",
      "        - CRIM     per capita crime rate by town\n",
      "        - ZN       proportion of residential land zoned for lots over 25,000 sq.ft.\n",
      "        - INDUS    proportion of non-retail business acres per town\n",
      "        - CHAS     Charles River dummy variable (= 1 if tract bounds river; 0 otherwise)\n",
      "        - NOX      nitric oxides concentration (parts per 10 million)\n",
      "        - RM       average number of rooms per dwelling\n",
      "        - AGE      proportion of owner-occupied units built prior to 1940\n",
      "        - DIS      weighted distances to five Boston employment centres\n",
      "        - RAD      index of accessibility to radial highways\n",
      "        - TAX      full-value property-tax rate per $10,000\n",
      "        - PTRATIO  pupil-teacher ratio by town\n",
      "        - B        1000(Bk - 0.63)^2 where Bk is the proportion of blacks by town\n",
      "        - LSTAT    % lower status of the population\n",
      "        - MEDV     Median value of owner-occupied homes in $1000's\n",
      "\n",
      "    :Missing Attribute Values: None\n",
      "\n",
      "    :Creator: Harrison, D. and Rubinfeld, D.L.\n",
      "\n",
      "This is a copy of UCI ML housing dataset.\n",
      "https://archive.ics.uci.edu/ml/machine-learning-databases/housing/\n",
      "\n",
      "\n",
      "This dataset was taken from the StatLib library which is maintained at Carnegie Mellon University.\n",
      "\n",
      "The Boston house-price data of Harrison, D. and Rubinfeld, D.L. 'Hedonic\n",
      "prices and the demand for clean air', J. Environ. Economics & Management,\n",
      "vol.5, 81-102, 1978.   Used in Belsley, Kuh & Welsch, 'Regression diagnostics\n",
      "...', Wiley, 1980.   N.B. Various transformations are used in the table on\n",
      "pages 244-261 of the latter.\n",
      "\n",
      "The Boston house-price data has been used in many machine learning papers that address regression\n",
      "problems.   \n",
      "     \n",
      ".. topic:: References\n",
      "\n",
      "   - Belsley, Kuh & Welsch, 'Regression diagnostics: Identifying Influential Data and Sources of Collinearity', Wiley, 1980. 244-261.\n",
      "   - Quinlan,R. (1993). Combining Instance-Based and Model-Based Learning. In Proceedings on the Tenth International Conference of Machine Learning, 236-243, University of Massachusetts, Amherst. Morgan Kaufmann.\n",
      "\n",
      "Cantidad de datos:\n",
      "(506, 13)\n",
      "Nombres columnas:\n",
      "['CRIM' 'ZN' 'INDUS' 'CHAS' 'NOX' 'RM' 'AGE' 'DIS' 'RAD' 'TAX' 'PTRATIO'\n",
      " 'B' 'LSTAT']\n"
     ]
    }
   ],
   "source": [
    "########## LIBRERÍAS A UTILIZAR ##########\n",
    "#Se importan la librerias a utilizar\n",
    "import numpy as np\n",
    "from sklearn import datasets, linear_model\n",
    "import matplotlib.pyplot as plt\n",
    "########## PREPARAR LA DATA ##########\n",
    "#Importamos los datos de la misma librería de scikit-learn\n",
    "boston = datasets.load_boston()\n",
    "########## ENTENDIMIENTO DE LA DATA ##########\n",
    "#Verifico la información contenida en el dataset\n",
    "print('Información en el dataset:')\n",
    "print(boston.keys())\n",
    "#Verifico las características del dataset\n",
    "print('Características del dataset:')\n",
    "print(boston.DESCR)\n",
    "#Verifico la cantidad de datos que hay en los dataset\n",
    "print('Cantidad de datos:')\n",
    "print(boston.data.shape)\n",
    "\n",
    "#Verifico la información de las columnas\n",
    "print('Nombres columnas:')\n",
    "print(boston.feature_names)"
   ]
  },
  {
   "cell_type": "code",
   "execution_count": 14,
   "metadata": {},
   "outputs": [
    {
     "data": {
      "image/png": "[encoded data removed]",
      "text/plain": [
       "<Figure size 432x288 with 1 Axes>"
      ]
     },
     "metadata": {},
     "output_type": "display_data"
    }
   ],
   "source": [
    "########## PREPARAR LA DATA REGRESIÓN POLINOMIAL ##########\n",
    "#Seleccionamos solamente la columna 6 del dataset\n",
    "X_p = boston.data[:, np.newaxis, 5]\n",
    "#Defino los datos correspondientes a las etiquetas\n",
    "y_p = boston.target\n",
    "#Graficamos los datos correspondientes\n",
    "plt.scatter(X_p, y_p)\n",
    "plt.show()"
   ]
  },
  {
   "cell_type": "code",
   "execution_count": 25,
   "metadata": {},
   "outputs": [
    {
     "data": {
      "image/png": "[encoded data removed]",
      "text/plain": [
       "<Figure size 432x288 with 1 Axes>"
      ]
     },
     "metadata": {},
     "output_type": "display_data"
    }
   ],
   "source": [
    "########## IMPLEMENTACIÓN DE REGRESIÓN POLINOMIAL ##########\n",
    "from sklearn.model_selection import train_test_split\n",
    "#Separo los datos de \"train\" en entrenamiento y prueba para probar los algoritmos\n",
    "X_train_p, X_test_p, y_train_p, y_test_p = train_test_split(X_p, y_p, test_size=0.2)\n",
    "from sklearn.preprocessing import PolynomialFeatures\n",
    "#Se define el grado del polinomio\n",
    "poli_reg = PolynomialFeatures(degree = 2)\n",
    "#Se transforma las características existentes en características de mayor grado\n",
    "X_train_poli = poli_reg.fit_transform(X_train_p)\n",
    "X_test_poli = poli_reg.fit_transform(X_test_p)\n",
    "#Defino el algoritmo a utilizar\n",
    "pr = linear_model.LinearRegression()\n",
    "#Entreno el modelo\n",
    "pr.fit(X_train_poli, y_train_p)\n",
    "#Realizo una predicción\n",
    "Y_pred_pr = pr.predict(X_test_poli)\n",
    "#Graficamos los datos junto con el modelo\n",
    "plt.scatter(X_test_p, y_test_p)\n",
    "plt.plot(X_test_p, Y_pred_pr, color='red', linewidth=1)\n",
    "plt.show()"
   ]
  },
  {
   "cell_type": "code",
   "execution_count": 26,
   "metadata": {},
   "outputs": [
    {
     "name": "stdout",
     "output_type": "stream",
     "text": [
      "DATOS DEL MODELO REGRESIÓN POLINOMIAL\n",
      "\n",
      "Valor de la pendiente o coeficiente \"a\":\n",
      "[  0.         -19.52826548   2.20974663]\n",
      "Valor de la intersección o coeficiente \"b\":\n",
      "56.92965071558523\n",
      "Precisión del modelo:\n",
      "0.5261499528625925\n"
     ]
    }
   ],
   "source": [
    "print('DATOS DEL MODELO REGRESIÓN POLINOMIAL')\n",
    "print()\n",
    "print('Valor de la pendiente o coeficiente \"a\":')\n",
    "print(pr.coef_)\n",
    "print('Valor de la intersección o coeficiente \"b\":')\n",
    "print(pr.intercept_)\n",
    "print('Precisión del modelo:')\n",
    "print(pr.score(X_train_poli, y_train_p))"
   ]
  },
  {
   "cell_type": "markdown",
   "metadata": {},
   "source": [
    "## 5.- Regresión Logística\n",
    "\n",
    "Las técnicas de clasificación son una parte esencial de Machine Learning, se puede considerar que aproximadamente el 70% de los problemas son de este tipo. Hay muchos algoritmos de clasificación, pero la Regresión Logística es común y es un método de regresión útil para resolver problemas de clasificación binaria.\n",
    "\n",
    "![img](https://i1.wp.com/live.staticflickr.com/65535/48057363928_f378c17500_c.jpg?resize=800%2C485&ssl=1)"
   ]
  },
  {
   "cell_type": "markdown",
   "metadata": {},
   "source": [
    "La Regresión Logística es un método estadístico para predecir clases binarias. El resultado o variable objetivo es de naturaleza dicotómica. Dicotómica significa que solo hay dos clases posibles. Por ejemplo, se puede utilizar para problemas de detección de cáncer o calcular la probabilidad de que ocurra un evento.\n",
    "\n",
    "La Regresión Logística es uno de los algoritmos de Machine Learning más simples y más utilizados para la clasificación de dos clases. Es fácil de implementar y se puede usar como línea de base para cualquier problema de clasificación binaria. La Regresión Logística describe y estima la relación entre una variable binaria dependiente y las variables independientes."
   ]
  },
  {
   "cell_type": "markdown",
   "metadata": {},
   "source": [
    "![img](https://i2.wp.com/live.staticflickr.com/65535/48057314931_63fecdb916_c.jpg?resize=800%2C434&ssl=1)\n",
    "\n",
    "En general, este algoritmo se puede utilizar para varios problemas de clasificación, como la detección de spam, predicción de la diabetes, si un cliente determinado comprará un producto en particular o si se irá con la competencia, hay muchos más ejemplos en donde se puede aplicar este algoritmo.\n",
    "\n",
    "Por su parte la Regresión Logística lleva el nombre de la función utilizada en el núcleo del método, la función logística es también llamada función Sigmoide. Esta función es una curva en forma de S que puede tomar cualquier número de valor real y asignar a un valor entre 0 y 1.\n",
    "\n",
    "---\n",
    "\n",
    "Si la curva va a infinito positivo la predicción se convertirá en 1, y si la curva pasa el infinito negativo, la predicción se convertirá en 0. Si la salida de la función Sigmoide es mayor que 0.5, podemos clasificar el resultado como 1 o SI, y si es menor que 0.5 podemos clasificarlo como 0 o NO. Por su parte si el resultado es 0.75, podemos decir en términos de probabilidad como, hay un 75% de probabilidades de que el paciente sufra cáncer.\n",
    "\n",
    "Hasta este momento, ya sabemos la ecuación de Regresión Lineal es está:\n",
    "\n",
    "![img](https://i0.wp.com/live.staticflickr.com/65535/48057314786_3bc46bb4e4_c.jpg?resize=800%2C514&ssl=1)\n",
    "\n",
    "---\n",
    "\n",
    "### Diferencias entre Regresión Lineal y Regresión Logística\n",
    "\n",
    "La Regresión Lineal proporciona una salida continua, pero la Regresión Logística proporciona una salida discreta. Un ejemplo de una salida continua es conocer el porcentaje de probabilidad de lluvia o el precio de una acción. Un ejemplo de una salida discreta, por su parte, es conocer si va a llover o no, o si el precio de una acción subirá o no.\n",
    "\n",
    "---\n",
    "\n",
    "### Tipos de Regresión Logística\n",
    "\n",
    "* Regresión Logística Binaria: la variable objetivo tiene solo dos resultados posible, Llueve o NO Llueve, Sube o Baja.\n",
    "* Regresión Logística Multinomial: la variable objetivo tiene tres o más categorías nominales, como predecir el tipo de vino.\n",
    "* Regresión Logística Ordinal: la variable objetivo tiene tres o más categorías ordinales, como clasificar un restaurante o un producto del 1 al 5.\n"
   ]
  },
  {
   "cell_type": "markdown",
   "metadata": {},
   "source": [
    "Para este análisis vamos a utilizar uno de los dataset que se encuentra disponible en la librería scikit-learn y es el correspondiente a Breast Cancer o cáncer de seno.\n",
    "\n",
    "---\n",
    "\n",
    "Como todos los ejemplos que hemos fisto hasta ahorita, lo primero que debemos hacer es volver a importar las librerías que vamos a utilizar.\n",
    "Sigamos con los datasets que se encuentra en sklearn."
   ]
  },
  {
   "cell_type": "code",
   "execution_count": 27,
   "metadata": {},
   "outputs": [],
   "source": [
    "#Se importan la librerias a utilizar\n",
    "from sklearn import datasets"
   ]
  },
  {
   "cell_type": "markdown",
   "metadata": {},
   "source": [
    "Ahora procedemos a importar los datos, para ello utilizamos la instrucción datasets punto load breast cancer y almacenamos esta información dentro de la variable dataset."
   ]
  },
  {
   "cell_type": "code",
   "execution_count": 28,
   "metadata": {},
   "outputs": [
    {
     "name": "stdout",
     "output_type": "stream",
     "text": [
      "{'data': array([[1.799e+01, 1.038e+01, 1.228e+02, ..., 2.654e-01, 4.601e-01,\n",
      "        1.189e-01],\n",
      "       [2.057e+01, 1.777e+01, 1.329e+02, ..., 1.860e-01, 2.750e-01,\n",
      "        8.902e-02],\n",
      "       [1.969e+01, 2.125e+01, 1.300e+02, ..., 2.430e-01, 3.613e-01,\n",
      "        8.758e-02],\n",
      "       ...,\n",
      "       [1.660e+01, 2.808e+01, 1.083e+02, ..., 1.418e-01, 2.218e-01,\n",
      "        7.820e-02],\n",
      "       [2.060e+01, 2.933e+01, 1.401e+02, ..., 2.650e-01, 4.087e-01,\n",
      "        1.240e-01],\n",
      "       [7.760e+00, 2.454e+01, 4.792e+01, ..., 0.000e+00, 2.871e-01,\n",
      "        7.039e-02]]), 'target': array([0, 0, 0, 0, 0, 0, 0, 0, 0, 0, 0, 0, 0, 0, 0, 0, 0, 0, 0, 1, 1, 1,\n",
      "       0, 0, 0, 0, 0, 0, 0, 0, 0, 0, 0, 0, 0, 0, 0, 1, 0, 0, 0, 0, 0, 0,\n",
      "       0, 0, 1, 0, 1, 1, 1, 1, 1, 0, 0, 1, 0, 0, 1, 1, 1, 1, 0, 1, 0, 0,\n",
      "       1, 1, 1, 1, 0, 1, 0, 0, 1, 0, 1, 0, 0, 1, 1, 1, 0, 0, 1, 0, 0, 0,\n",
      "       1, 1, 1, 0, 1, 1, 0, 0, 1, 1, 1, 0, 0, 1, 1, 1, 1, 0, 1, 1, 0, 1,\n",
      "       1, 1, 1, 1, 1, 1, 1, 0, 0, 0, 1, 0, 0, 1, 1, 1, 0, 0, 1, 0, 1, 0,\n",
      "       0, 1, 0, 0, 1, 1, 0, 1, 1, 0, 1, 1, 1, 1, 0, 1, 1, 1, 1, 1, 1, 1,\n",
      "       1, 1, 0, 1, 1, 1, 1, 0, 0, 1, 0, 1, 1, 0, 0, 1, 1, 0, 0, 1, 1, 1,\n",
      "       1, 0, 1, 1, 0, 0, 0, 1, 0, 1, 0, 1, 1, 1, 0, 1, 1, 0, 0, 1, 0, 0,\n",
      "       0, 0, 1, 0, 0, 0, 1, 0, 1, 0, 1, 1, 0, 1, 0, 0, 0, 0, 1, 1, 0, 0,\n",
      "       1, 1, 1, 0, 1, 1, 1, 1, 1, 0, 0, 1, 1, 0, 1, 1, 0, 0, 1, 0, 1, 1,\n",
      "       1, 1, 0, 1, 1, 1, 1, 1, 0, 1, 0, 0, 0, 0, 0, 0, 0, 0, 0, 0, 0, 0,\n",
      "       0, 0, 1, 1, 1, 1, 1, 1, 0, 1, 0, 1, 1, 0, 1, 1, 0, 1, 0, 0, 1, 1,\n",
      "       1, 1, 1, 1, 1, 1, 1, 1, 1, 1, 1, 0, 1, 1, 0, 1, 0, 1, 1, 1, 1, 1,\n",
      "       1, 1, 1, 1, 1, 1, 1, 1, 1, 0, 1, 1, 1, 0, 1, 0, 1, 1, 1, 1, 0, 0,\n",
      "       0, 1, 1, 1, 1, 0, 1, 0, 1, 0, 1, 1, 1, 0, 1, 1, 1, 1, 1, 1, 1, 0,\n",
      "       0, 0, 1, 1, 1, 1, 1, 1, 1, 1, 1, 1, 1, 0, 0, 1, 0, 0, 0, 1, 0, 0,\n",
      "       1, 1, 1, 1, 1, 0, 1, 1, 1, 1, 1, 0, 1, 1, 1, 0, 1, 1, 0, 0, 1, 1,\n",
      "       1, 1, 1, 1, 0, 1, 1, 1, 1, 1, 1, 1, 0, 1, 1, 1, 1, 1, 0, 1, 1, 0,\n",
      "       1, 1, 1, 1, 1, 1, 1, 1, 1, 1, 1, 1, 0, 1, 0, 0, 1, 0, 1, 1, 1, 1,\n",
      "       1, 0, 1, 1, 0, 1, 0, 1, 1, 0, 1, 0, 1, 1, 1, 1, 1, 1, 1, 1, 0, 0,\n",
      "       1, 1, 1, 1, 1, 1, 0, 1, 1, 1, 1, 1, 1, 1, 1, 1, 1, 0, 1, 1, 1, 1,\n",
      "       1, 1, 1, 0, 1, 0, 1, 1, 0, 1, 1, 1, 1, 1, 0, 0, 1, 0, 1, 0, 1, 1,\n",
      "       1, 1, 1, 0, 1, 1, 0, 1, 0, 1, 0, 0, 1, 1, 1, 0, 1, 1, 1, 1, 1, 1,\n",
      "       1, 1, 1, 1, 1, 0, 1, 0, 0, 1, 1, 1, 1, 1, 1, 1, 1, 1, 1, 1, 1, 1,\n",
      "       1, 1, 1, 1, 1, 1, 1, 1, 1, 1, 1, 1, 0, 0, 0, 0, 0, 0, 1]), 'target_names': array(['malignant', 'benign'], dtype='<U9'), 'DESCR': '.. _breast_cancer_dataset:\\n\\nBreast cancer wisconsin (diagnostic) dataset\\n--------------------------------------------\\n\\n**Data Set Characteristics:**\\n\\n    :Number of Instances: 569\\n\\n    :Number of Attributes: 30 numeric, predictive attributes and the class\\n\\n    :Attribute Information:\\n        - radius (mean of distances from center to points on the perimeter)\\n        - texture (standard deviation of gray-scale values)\\n        - perimeter\\n        - area\\n        - smoothness (local variation in radius lengths)\\n        - compactness (perimeter^2 / area - 1.0)\\n        - concavity (severity of concave portions of the contour)\\n        - concave points (number of concave portions of the contour)\\n        - symmetry \\n        - fractal dimension (\"coastline approximation\" - 1)\\n\\n        The mean, standard error, and \"worst\" or largest (mean of the three\\n        largest values) of these features were computed for each image,\\n        resulting in 30 features.  For instance, field 3 is Mean Radius, field\\n        13 is Radius SE, field 23 is Worst Radius.\\n\\n        - class:\\n                - WDBC-Malignant\\n                - WDBC-Benign\\n\\n    :Summary Statistics:\\n\\n    ===================================== ====== ======\\n                                           Min    Max\\n    ===================================== ====== ======\\n    radius (mean):                        6.981  28.11\\n    texture (mean):                       9.71   39.28\\n    perimeter (mean):                     43.79  188.5\\n    area (mean):                          143.5  2501.0\\n    smoothness (mean):                    0.053  0.163\\n    compactness (mean):                   0.019  0.345\\n    concavity (mean):                     0.0    0.427\\n    concave points (mean):                0.0    0.201\\n    symmetry (mean):                      0.106  0.304\\n    fractal dimension (mean):             0.05   0.097\\n    radius (standard error):              0.112  2.873\\n    texture (standard error):             0.36   4.885\\n    perimeter (standard error):           0.757  21.98\\n    area (standard error):                6.802  542.2\\n    smoothness (standard error):          0.002  0.031\\n    compactness (standard error):         0.002  0.135\\n    concavity (standard error):           0.0    0.396\\n    concave points (standard error):      0.0    0.053\\n    symmetry (standard error):            0.008  0.079\\n    fractal dimension (standard error):   0.001  0.03\\n    radius (worst):                       7.93   36.04\\n    texture (worst):                      12.02  49.54\\n    perimeter (worst):                    50.41  251.2\\n    area (worst):                         185.2  4254.0\\n    smoothness (worst):                   0.071  0.223\\n    compactness (worst):                  0.027  1.058\\n    concavity (worst):                    0.0    1.252\\n    concave points (worst):               0.0    0.291\\n    symmetry (worst):                     0.156  0.664\\n    fractal dimension (worst):            0.055  0.208\\n    ===================================== ====== ======\\n\\n    :Missing Attribute Values: None\\n\\n    :Class Distribution: 212 - Malignant, 357 - Benign\\n\\n    :Creator:  Dr. William H. Wolberg, W. Nick Street, Olvi L. Mangasarian\\n\\n    :Donor: Nick Street\\n\\n    :Date: November, 1995\\n\\nThis is a copy of UCI ML Breast Cancer Wisconsin (Diagnostic) datasets.\\nhttps://goo.gl/U2Uwz2\\n\\nFeatures are computed from a digitized image of a fine needle\\naspirate (FNA) of a breast mass.  They describe\\ncharacteristics of the cell nuclei present in the image.\\n\\nSeparating plane described above was obtained using\\nMultisurface Method-Tree (MSM-T) [K. P. Bennett, \"Decision Tree\\nConstruction Via Linear Programming.\" Proceedings of the 4th\\nMidwest Artificial Intelligence and Cognitive Science Society,\\npp. 97-101, 1992], a classification method which uses linear\\nprogramming to construct a decision tree.  Relevant features\\nwere selected using an exhaustive search in the space of 1-4\\nfeatures and 1-3 separating planes.\\n\\nThe actual linear program used to obtain the separating plane\\nin the 3-dimensional space is that described in:\\n[K. P. Bennett and O. L. Mangasarian: \"Robust Linear\\nProgramming Discrimination of Two Linearly Inseparable Sets\",\\nOptimization Methods and Software 1, 1992, 23-34].\\n\\nThis database is also available through the UW CS ftp server:\\n\\nftp ftp.cs.wisc.edu\\ncd math-prog/cpo-dataset/machine-learn/WDBC/\\n\\n.. topic:: References\\n\\n   - W.N. Street, W.H. Wolberg and O.L. Mangasarian. Nuclear feature extraction \\n     for breast tumor diagnosis. IS&T/SPIE 1993 International Symposium on \\n     Electronic Imaging: Science and Technology, volume 1905, pages 861-870,\\n     San Jose, CA, 1993.\\n   - O.L. Mangasarian, W.N. Street and W.H. Wolberg. Breast cancer diagnosis and \\n     prognosis via linear programming. Operations Research, 43(4), pages 570-577, \\n     July-August 1995.\\n   - W.H. Wolberg, W.N. Street, and O.L. Mangasarian. Machine learning techniques\\n     to diagnose breast cancer from fine-needle aspirates. Cancer Letters 77 (1994) \\n     163-171.', 'feature_names': array(['mean radius', 'mean texture', 'mean perimeter', 'mean area',\n",
      "       'mean smoothness', 'mean compactness', 'mean concavity',\n",
      "       'mean concave points', 'mean symmetry', 'mean fractal dimension',\n",
      "       'radius error', 'texture error', 'perimeter error', 'area error',\n",
      "       'smoothness error', 'compactness error', 'concavity error',\n",
      "       'concave points error', 'symmetry error',\n",
      "       'fractal dimension error', 'worst radius', 'worst texture',\n",
      "       'worst perimeter', 'worst area', 'worst smoothness',\n",
      "       'worst compactness', 'worst concavity', 'worst concave points',\n",
      "       'worst symmetry', 'worst fractal dimension'], dtype='<U23'), 'filename': 'C:\\\\Anaconda3\\\\lib\\\\site-packages\\\\sklearn\\\\datasets\\\\data\\\\breast_cancer.csv'}\n"
     ]
    }
   ],
   "source": [
    "#Importamos los datos de la misma librería de scikit-learn\n",
    "dataset = datasets.load_breast_cancer()\n",
    "print(dataset)"
   ]
  },
  {
   "cell_type": "code",
   "execution_count": 29,
   "metadata": {},
   "outputs": [],
   "source": [
    "#Seleccionamos todas las columnas\n",
    "X = dataset.data\n",
    "#Defino los datos correspondientes a las etiquetas\n",
    "y = dataset.target"
   ]
  },
  {
   "cell_type": "code",
   "execution_count": 30,
   "metadata": {},
   "outputs": [
    {
     "name": "stdout",
     "output_type": "stream",
     "text": [
      "Matriz de Confusión:\n",
      "[[41  2]\n",
      " [ 0 71]]\n",
      "Precisión del modelo:\n",
      "0.9726027397260274\n",
      "Exactitud del modelo:\n",
      "0.9824561403508771\n",
      "Sensibilidad del modelo:\n",
      "1.0\n",
      "Puntaje F1 del modelo:\n",
      "0.9861111111111112\n",
      "Curva ROC - AUC del modelo:\n",
      "0.9767441860465117\n",
      "Precisión del modelo: 0.9726027397260274\n",
      "Exactitud del modelo: 0.9824561403508771\n",
      "Sensibilidad del modelo: 1.0\n",
      "Puntaje F1 del modelo: 0.9861111111111112\n",
      "Curva ROC - AUC del modelo: 0.9767441860465117\n"
     ]
    }
   ],
   "source": [
    "########## IMPLEMENTACIÓN DE REGRESIÓN LOGÍSTICA ##########\n",
    "from sklearn.model_selection import train_test_split\n",
    "#Separo los datos de \"train\" en entrenamiento y prueba para probar los algoritmos\n",
    "X_train, X_test, y_train, y_test = train_test_split(X, y, test_size=0.2)\n",
    "#Se escalan todos los datos\n",
    "from sklearn.preprocessing import StandardScaler\n",
    "escalar = StandardScaler()\n",
    "X_train = escalar.fit_transform(X_train)\n",
    "X_test = escalar.transform(X_test)\n",
    "#Defino el algoritmo a utilizar\n",
    "from sklearn.linear_model import LogisticRegression\n",
    "algoritmo = LogisticRegression()\n",
    "#Entreno el modelo\n",
    "algoritmo.fit(X_train, y_train)\n",
    "#Realizo una predicción\n",
    "y_pred = algoritmo.predict(X_test)\n",
    "#Verifico la matriz de Confusión\n",
    "from sklearn.metrics import confusion_matrix\n",
    "matriz = confusion_matrix(y_test, y_pred)\n",
    "print('Matriz de Confusión:')\n",
    "print(matriz)\n",
    "#Calculo la precisión del modelo\n",
    "from sklearn.metrics import precision_score\n",
    "precision = precision_score(y_test, y_pred)\n",
    "print('Precisión del modelo:')\n",
    "print(precision)\n",
    "#Calculo la exactitud del modelo\n",
    "from sklearn.metrics import accuracy_score\n",
    "exactitud = accuracy_score(y_test, y_pred)\n",
    "print('Exactitud del modelo:')\n",
    "print(exactitud)\n",
    "#Calculo la sensibilidad del modelo\n",
    "from sklearn.metrics import recall_score\n",
    "sensibilidad = recall_score(y_test, y_pred)\n",
    "print('Sensibilidad del modelo:')\n",
    "print(sensibilidad)\n",
    "#Calculo el Puntaje F1 del modelo\n",
    "from sklearn.metrics import f1_score\n",
    "puntajef1 = f1_score(y_test, y_pred)\n",
    "print('Puntaje F1 del modelo:')\n",
    "print(puntajef1)\n",
    "#Calculo la curva ROC - AUC del modelo\n",
    "from sklearn.metrics import roc_auc_score\n",
    "roc_auc = roc_auc_score(y_test, y_pred)\n",
    "print('Curva ROC - AUC del modelo:')\n",
    "print(roc_auc)\n",
    "print('Precisión del modelo:', precision)\n",
    "print('Exactitud del modelo:', exactitud)\n",
    "print('Sensibilidad del modelo:', sensibilidad)\n",
    "print('Puntaje F1 del modelo:', puntajef1)\n",
    "print('Curva ROC - AUC del modelo:', roc_auc)"
   ]
  },
  {
   "cell_type": "markdown",
   "metadata": {},
   "source": [
    "## 6.- Evaluando el error en los modelos de clasificación\n",
    "\n",
    "Después de realizar la evaluación de las características de los datos, la selección del algoritmo y la implementación de un modelo y obtener algunos resultados, el siguiente paso es averiguar qué tan efectivo es el modelo basado en alguna métrica.\n",
    "\n",
    "Se utilizan diferentes métricas de rendimiento para evaluar los modelos de clasificación, la elección de la misma influye en cómo se mide y compara el rendimiento de los algoritmos de Machine Learning.\n",
    "\n",
    "Te recomiendo que antes de continuar con la explicación hayas entendido muy bien de que se trata la Matriz de Confusión ya que es la base para los siguientes términos.\n",
    "\n",
    "![img](https://i1.wp.com/live.staticflickr.com/4849/33154606388_7a72bc6c14_c.jpg?resize=800%2C249&ssl=1)\n"
   ]
  },
  {
   "cell_type": "markdown",
   "metadata": {},
   "source": [
    "### Exactitud\n",
    "\n",
    "Es el número de predicciones correctas realizadas por el modelo por el número total de registros. La mejor precisión es el 100%, lo que indica que todas las predicciones son correctas.\n",
    "\n",
    "Toma en cuenta que la exactitud no es una medida válida del rendimiento del modelo cuando se tiene un conjunto de datos desequilibrado.\n",
    "\n",
    "![img](https://i2.wp.com/live.staticflickr.com/65535/48051257888_760554732e_c.jpg?resize=800%2C210&ssl=1)\n",
    "\n",
    "---\n",
    "\n",
    "![img](https://i0.wp.com/live.staticflickr.com/65535/48051257758_8c0c641485_c.jpg?resize=800%2C496&ssl=1)"
   ]
  },
  {
   "cell_type": "markdown",
   "metadata": {},
   "source": [
    "Expliquemos esto con nuestro ejemplo, en el caso de que tengamos los datos de detección de cáncer de 100 personas y solo 5 de ellas tiene cáncer. Al construir el modelo, este es muy malo y predice cada caso como NO cáncer, es decir ha clasificado correctamente a los 95 pacientes no cancerosos y a 5 pacientes cancerosos como NO cancerosos. Ahora, aunque el modelo es terrible para predecir el cáncer la precisión del mismo es del 95%. Por lo tanto, NO se puede fiar de la exactitud en casos de que los datos se encuentren desbalanceados.\n",
    "\n",
    "---\n",
    "\n",
    "### Precisión\n",
    "\n",
    "Con precisión, estamos evaluando nuestros datos por su desempeño de predicciones “positivas”.\n",
    "\n",
    "![img](https://i0.wp.com/live.staticflickr.com/4811/46305819834_5c1c3f2953_z.jpg?resize=593%2C143&ssl=1)"
   ]
  },
  {
   "cell_type": "markdown",
   "metadata": {},
   "source": [
    "Si usamos nuestro ejemplo, la precisión es una medida que nos dice qué proporción de pacientes a los que diagnosticamos que tiene cáncer, en realidad tuvo cáncer.\n",
    "\n",
    "![img](https://i1.wp.com/live.staticflickr.com/65535/48051298052_5faff86c48_c.jpg?resize=800%2C496&ssl=1)\n",
    "\n",
    "---\n",
    "\n",
    "Si volvemos a utilizar el ejemplo de cáncer con 100 personas y solo 5 tienen cáncer. Nuestro modelo es muy malo y predice todos los casos como cáncer, por lo que el denominador de la formula es 100 y el numerador, las personas que tienen cáncer y que el modelo predijo correctamente es 5. Por lo tanto, en este ejemplo, podemos decir que la precisión es del 5%."
   ]
  },
  {
   "cell_type": "markdown",
   "metadata": {},
   "source": [
    "### Sensibilidad\n",
    "\n",
    "La sensibilidad también es llamada Recall y se calcula como el número de predicciones positivas correctas dividido por el número total de positivos.\n",
    "\n",
    "![img](https://i2.wp.com/live.staticflickr.com/7841/46305820984_4bb1476465_b.jpg?resize=664%2C143&ssl=1)\n",
    "\n",
    "La sensibilidad es una medida que nos dice qué proporción de pacientes que realmente tuvieron cáncer fue diagnosticado por el algoritmo como si tuviera cáncer.\n",
    "\n",
    "![img](https://i0.wp.com/live.staticflickr.com/65535/48051257468_b3931e8c2d_c.jpg?resize=800%2C496&ssl=1)\n",
    "\n",
    "---\n",
    "\n",
    "En nuestro ejemplo de cáncer con 100 personas, 5 personas realmente tienen cáncer. Digamos que el modelo predice todos los casos de cáncer. Así que nuestro denominador, verdaderos positivos y falsos negativos, es 5 y el numerador la persona que tiene cáncer y el modelo que predice su caso como cáncer también es 5, ya que predijimos 5 casos de cáncer correctamente. Entonces, en este ejemplo, podemos decir que la sensibilidad de dicho modelo es del 100% y la precisión el del 5%, como vimos anteriormente."
   ]
  },
  {
   "cell_type": "markdown",
   "metadata": {},
   "source": [
    "### Especificidad\n",
    "\n",
    "La especificidad, tasa negativa verdadera, se calcula como el número de predicciones negativas correctas dividido por el número total de negativos.\n",
    "\n",
    "---\n",
    "\n",
    "![img](https://i2.wp.com/live.staticflickr.com/7883/46305821934_2242c1d10a_b.jpg?resize=697%2C143&ssl=1)\n",
    "\n",
    "La especificidad es una medida que nos dice qué proporción de pacientes que NO tuvieron cáncer, fueron predichos por el modelo como no cancerosos.\n",
    "\n",
    "La especificidad es exactamente lo contrario a la sensibilidad.\n",
    "\n",
    "![img](https://i2.wp.com/live.staticflickr.com/65535/48051297727_398fd886a0_c.jpg?resize=800%2C496&ssl=1)"
   ]
  },
  {
   "cell_type": "markdown",
   "metadata": {},
   "source": [
    "### Puntaje de F1\n",
    "\n",
    "Realmente no queremos calcular la precisión y la sensibilidad cada vez que creamos un modelo para resolver un problema de clasificación, así que es mejor si podemos obtener una puntuación única que represente ambas variables.\n",
    "\n",
    "El puntaje F1 es el promedio ponderado de precisión y sensibilidad. Por lo tanto, esta puntuación tiene en cuenta tanto los falsos positivos como los falsos negativos.\n",
    "\n",
    "![img](https://i1.wp.com/live.staticflickr.com/65535/48051297527_655abe34c2_c.jpg?resize=800%2C163&ssl=1)\n",
    "\n",
    "---\n",
    "\n",
    "![img](https://i0.wp.com/live.staticflickr.com/4872/46305823134_bf603017b4_b.jpg?resize=750%2C514&ssl=1)"
   ]
  },
  {
   "cell_type": "markdown",
   "metadata": {},
   "source": [
    "En nuestro ejemplo de cáncer con 100 personas, 5 personas realmente tienen cáncer, digamos que modelo predice todos los casos de cáncer.\n",
    "\n",
    "La precisión será del 5% y la sensibilidad del 100%, sustituyendo estos valores en la formula nos da un puntaje F1 de 9,5%."
   ]
  },
  {
   "cell_type": "markdown",
   "metadata": {},
   "source": [
    "---\n",
    "## 7.- Curvas ROC y Área bajo la curva (AUC)\n",
    "\n",
    "En Machine Learning, la medición del rendimiento es una tarea esencial. Entonces, cuando se trata de un problema de clasificación, podemos contar con una curva AUC-ROC. Esta es una de las métricas de evaluación más importante para verificar el rendimiento de cualquier modelo de clasificación.\n",
    "\n",
    "ROC viene de las características de funcionamiento del receptor y AUC del área bajo la curva.\n",
    "\n",
    "Para entender mejor lo que se explicará a continuación te recomiendo que revises primero la información de la matriz de confusión.\n",
    "\n",
    "---\n",
    "\n",
    "### La curva ROC (característica de funcionamiento del receptor)\n",
    "\n",
    "La curva ROC nos dice qué tan bueno puede distinguir el modelo entre dos cosas, por ejemplo, si un paciente tiene cáncer o no. Mejores modelos pueden distinguir con precisión entre los dos, mientras que un modelo pobre tendrá dificultades para distinguir entre los dos.\n",
    "\n",
    "Supongamos que tenemos un modelo que predice si un paciente tiene cáncer o no, el resultado es el siguiente:\n",
    "\n",
    "![img](https://i2.wp.com/live.staticflickr.com/65535/48049012142_2d18738b58_c.jpg?resize=800%2C539&ssl=1)\n",
    "\n",
    "---\n",
    "\n",
    "La línea en verde representa a todos los pacientes que no tienen cáncer mientras que la línea rojo representa los pacientes que si tienen cáncer.\n",
    "\n",
    "Ahora debemos elegir un valor en donde establecemos el corte o un valor umbral, por encima del cual predeciremos a todos como positivos, tienen cáncer, y por debajo del cual predeciremos como negativos, NO cáncer. Este umbral lo establecemos en 0.5.\n",
    "\n",
    "![img](https://i2.wp.com/live.staticflickr.com/65535/48048933636_82c65fb17f_c.jpg?resize=800%2C560&ssl=1)"
   ]
  },
  {
   "cell_type": "markdown",
   "metadata": {},
   "source": [
    "Tomando los conceptos aprendidos en la matriz de confusión, todos los valores positivos por encima del umbral serán “verdaderos positivos” y los valores negativos por encima del umbral será “falsos positivos”, ya que se predicen incorrectamente como positivos.\n",
    "\n",
    "Todos los valores negativos por debajo del umbral serán “verdaderos negativos” y los valores positivos por debajo del umbral serán “falsos negativos”, ya que se pronostican incorrectamente como negativos.\n",
    "\n",
    "---\n",
    "\n",
    "![img](https://i0.wp.com/live.staticflickr.com/65535/48048973513_1f9d124b54_c.jpg?resize=800%2C563&ssl=1)\n",
    "\n",
    "Aquí, tenemos una idea básica de que el modelo predice valores correctos e incorrectos con respecto al conjunto de umbrales.\n",
    "\n",
    "La sensibilidad o recall, es la proporción de pacientes que se identificaron correctamente por tener cáncer, es decir verdadero positivo, sobre el número total de pacientes que realmente tienen la enfermedad.\n",
    "\n",
    "Por su parte, especificidad es la proporción de pacientes que se identificaron correctamente por no tener cáncer, verdadero positivo, sobre el número total de pacientes que no tienen la enfermedad.\n",
    "\n",
    "![img](https://i2.wp.com/live.staticflickr.com/65535/48049011482_fffb6c5eb5_c.jpg?resize=736%2C800&ssl=1)"
   ]
  },
  {
   "cell_type": "markdown",
   "metadata": {},
   "source": [
    "Si volvemos a nuestra gráfica anterior, si disminuimos el valor del umbral, obtenemos más valores negativos, aumentando la sensibilidad, pero disminuyendo la especificidad.\n",
    "\n",
    "![img](https://i1.wp.com/live.staticflickr.com/65535/48048973193_8246b103b7_c.jpg?resize=736%2C800&ssl=1)"
   ]
  },
  {
   "cell_type": "markdown",
   "metadata": {},
   "source": [
    "En cambio, si aumentamos el umbral, obtenemos más valores negativos, lo que aumenta la especificidad y disminuye la sensibilidad.\n",
    "\n",
    "Si graficamos esta relación sería algo como esto:\n",
    "    \n",
    "![img](https://i0.wp.com/live.staticflickr.com/65535/48049011112_7cdbb206f8_c.jpg?resize=800%2C624&ssl=1)"
   ]
  },
  {
   "cell_type": "markdown",
   "metadata": {},
   "source": [
    "![img](https://i1.wp.com/live.staticflickr.com/65535/48048972843_895a5d129d_c.jpg?resize=800%2C793&ssl=1)\n",
    "\n",
    "Pero, no es así como graficamos la curva ROC, para trazar esta curva, en lugar de especificidad usamos “1 – especificidad” y la gráfica se verá algo como esto:\n",
    "\n",
    "De esta forma si aumentamos la sensibilidad, la “1 – especificidad” también aumentará. A esta curva se le conoce como la curva ROC.\n",
    "\n",
    "Pero me imagino que te estas preguntando porque utilizamos “1 – especificidad”, si llevamos este termino a la formula tendríamos algo así:\n",
    "\n",
    "![img](https://i0.wp.com/live.staticflickr.com/65535/48048932656_5b4a3d0931_c.jpg?resize=800%2C196&ssl=1)\n",
    "\n",
    "---\n",
    "\n",
    "Mientras que la especificidad nos da la tasa negativa verdadera y “1 – especificidad” nos da la tasa positiva falsa.\n",
    "\n",
    "Por lo que la curva ROC esta definida por la sensibilidad que es la tasa de verdadero positivo y “1 – especificidad” es la tasa de falso positivo."
   ]
  },
  {
   "cell_type": "markdown",
   "metadata": {},
   "source": [
    "### Área bajo la curva (AUC)\n",
    "\n",
    "El AUC es el área bajo la curva ROC. Este puntaje nos da una buena idea de qué tan bien funciona el modelo.\n",
    "\n",
    "Veamos algunos ejemplos de esto:\n",
    "    \n",
    "![img](https://i0.wp.com/live.staticflickr.com/65535/48049010727_ef276cb443_c.jpg?resize=800%2C346&ssl=1)\n",
    "\n",
    "Esta es una situación ideal. Cuando dos curvas no se superponen en absoluto, el modelo tiene una medida ideal de separación. Es perfectamente capaz de distinguir entre clase positiva y clase negativa.\n",
    "\n",
    "![img](https://i2.wp.com/live.staticflickr.com/65535/48048972478_80ec37664c_c.jpg?resize=800%2C349&ssl=1)\n",
    "\n",
    "---\n",
    "\n",
    "Cuando dos distribuciones se superponen, introducimos errores. Dependiendo del umbral, podemos minimizarlos o maximizarlos. Cuando AUC es 0.7, significa que hay 70% de probabilidad de que el modelo pueda distinguir entre clase positiva y clase negativa.\n",
    "\n",
    "![img](https://i2.wp.com/live.staticflickr.com/65535/48049010402_f5ff692cb6_c.jpg?resize=800%2C347&ssl=1)\n",
    "\n",
    "Esta es la peor situación. Cuando el AUC es aproximadamente 0.5, el modelo no tiene capacidad de discriminación para distinguir entre clase positiva y clase negativa.\n",
    "\n",
    "![img](https://i2.wp.com/live.staticflickr.com/65535/48048932026_19ee696fdb_c.jpg?resize=800%2C347&ssl=1)\n",
    "\n",
    "---\n",
    "\n",
    "Cuando AUC es aproximadamente 0, el modelo en realidad está correspondiendo las clases. Significa que el modelo predice la clase negativa como una clase positiva y viceversa.\n",
    "\n",
    "Este método es conveniente por las siguientes razones:\n",
    "\n",
    "* Es invariable con respecto a la escala, mide qué tan bien se clasifican las predicciones, en lugar de sus valores absolutos.\n",
    "* Es invariable con respecto al umbral de clasificación, mide la calidad de las predicciones del modelo, sin tener en cuenta qué umbral de clasificación se elige.\n"
   ]
  }
 ],
 "metadata": {
  "kernelspec": {
   "display_name": "Python 3",
   "language": "python",
   "name": "python3"
  },
  "language_info": {
   "codemirror_mode": {
    "name": "ipython",
    "version": 3
   },
   "file_extension": ".py",
   "mimetype": "text/x-python",
   "name": "python",
   "nbconvert_exporter": "python",
   "pygments_lexer": "ipython3",
   "version": "3.7.6"
  }
 },
 "nbformat": 4,
 "nbformat_minor": 4
}
