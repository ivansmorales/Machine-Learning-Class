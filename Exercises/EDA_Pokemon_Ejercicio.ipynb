{
  "nbformat": 4,
  "nbformat_minor": 0,
  "metadata": {
    "colab": {
      "name": "EDA_Pokemon-Ejercicio.ipynb",
      "provenance": [],
      "collapsed_sections": []
    },
    "kernelspec": {
      "display_name": "Python 3",
      "language": "python",
      "name": "python3"
    },
    "language_info": {
      "codemirror_mode": {
        "name": "ipython",
        "version": 3
      },
      "file_extension": ".py",
      "mimetype": "text/x-python",
      "name": "python",
      "nbconvert_exporter": "python",
      "pygments_lexer": "ipython3",
      "version": "3.7.6"
    }
  },
  "cells": [
    {
      "cell_type": "markdown",
      "metadata": {
        "id": "aPqLfztIKFmO"
      },
      "source": [
        "<img src= \"https://cdn.bulbagarden.net/upload/8/88/Mission_Guides.png\"/>"
      ]
    },
    {
      "cell_type": "markdown",
      "metadata": {
        "id": "yjZwo0cHVO8h"
      },
      "source": [
        "# Probemos los modelos..."
      ]
    },
    {
      "cell_type": "markdown",
      "metadata": {
        "id": "81jagWLzVO8i"
      },
      "source": [
        "![img](https://img.pokemondb.net/artwork/melmetal.jpg)"
      ]
    },
    {
      "cell_type": "code",
      "metadata": {
        "id": "LZ8MhVKcVO8j"
      },
      "source": [
        "test = np.array([[580.0,90.0,85.0,100.0,95.0,125.0,85.0]])"
      ],
      "execution_count": null,
      "outputs": []
    },
    {
      "cell_type": "markdown",
      "metadata": {
        "id": "XTQ6X7GaVO8p"
      },
      "source": [
        "<img src=\"https://images.gameinfo.io/pokemon/256/493-11.png\" weidth=\"400\"/>"
      ]
    },
    {
      "cell_type": "code",
      "metadata": {
        "id": "4yR4NTUPVO8q"
      },
      "source": [
        "test2 = np.array([[720.0,120.0,120.0,120.0,120.0,120.0,120.0]])"
      ],
      "execution_count": null,
      "outputs": []
    },
    {
      "cell_type": "markdown",
      "metadata": {
        "id": "1qA-CjQoVO8u"
      },
      "source": [
        "## ¿Será legendario Melmetal.... y qué tal Arceus?"
      ]
    },
    {
      "cell_type": "code",
      "metadata": {
        "id": "DjBY_2ptVO8x"
      },
      "source": [
        ""
      ],
      "execution_count": null,
      "outputs": []
    },
    {
      "cell_type": "markdown",
      "metadata": {
        "id": "VANH7HEtVO81"
      },
      "source": [
        "## ¿Será?"
      ]
    },
    {
      "cell_type": "markdown",
      "metadata": {
        "id": "cNfVvLG2VO82"
      },
      "source": [
        "# Ejercicio"
      ]
    },
    {
      "cell_type": "markdown",
      "metadata": {
        "id": "-RuoZwjMVO83"
      },
      "source": [
        "En esta sección deberán realizar un nuevo dataframe, pero considerando las siguientes características (ojo!, ya no son sólo de tipo normal y legendario...)"
      ]
    },
    {
      "cell_type": "code",
      "metadata": {
        "id": "_X3i0OqNWpof"
      },
      "source": [
        "# Data analysis and wrangling\n",
        "import numpy as np\n",
        "import pandas as pd\n",
        "\n",
        "# Visualization\n",
        "import matplotlib.pyplot as plt\n",
        "import seaborn as sns\n",
        "sns.set(style='whitegrid')\n",
        "%matplotlib inline"
      ],
      "execution_count": null,
      "outputs": []
    },
    {
      "cell_type": "code",
      "metadata": {
        "id": "xNleIhthWQRj"
      },
      "source": [
        "pokedex = pd.read_csv(\"https://raw.githubusercontent.com/ivansmorales/Machine-Learning-Class/master/sample_data/pokedex.csv\")\n",
        "pokedex = pokedex.drop(['Unnamed: 0'], axis=1)"
      ],
      "execution_count": null,
      "outputs": []
    },
    {
      "cell_type": "code",
      "metadata": {
        "id": "TkLKTMdbXuiO",
        "outputId": "7d99de30-c053-46dd-cb8c-c3090c4edf51",
        "colab": {
          "base_uri": "https://localhost:8080/",
          "height": 419
        }
      },
      "source": [
        "list = ['german_name', 'japanese_name', 'type_number', 'species', 'type_number', 'height_m',\n",
        "       'weight_kg', 'abilities_number', 'ability_1', 'ability_2',\n",
        "       'ability_hidden','catch_rate', 'base_friendship',\n",
        "       'base_experience', 'growth_rate', 'egg_type_number', 'egg_type_1',\n",
        "       'egg_type_2', 'percentage_male', 'egg_cycles', 'against_normal',\n",
        "       'against_fire', 'against_water', 'against_electric', 'against_grass',\n",
        "       'against_ice', 'against_fight', 'against_poison', 'against_ground',\n",
        "       'against_flying', 'against_psychic', 'against_bug', 'against_rock',\n",
        "       'against_ghost', 'against_dragon', 'against_dark', 'against_steel',\n",
        "       'against_fairy']\n",
        "newpkdx = pokedex.drop(list, axis=1)\n",
        "newpkdx"
      ],
      "execution_count": null,
      "outputs": [
        {
          "output_type": "execute_result",
          "data": {
            "text/html": [
              "<div>\n",
              "<style scoped>\n",
              "    .dataframe tbody tr th:only-of-type {\n",
              "        vertical-align: middle;\n",
              "    }\n",
              "\n",
              "    .dataframe tbody tr th {\n",
              "        vertical-align: top;\n",
              "    }\n",
              "\n",
              "    .dataframe thead th {\n",
              "        text-align: right;\n",
              "    }\n",
              "</style>\n",
              "<table border=\"1\" class=\"dataframe\">\n",
              "  <thead>\n",
              "    <tr style=\"text-align: right;\">\n",
              "      <th></th>\n",
              "      <th>pokedex_number</th>\n",
              "      <th>name</th>\n",
              "      <th>generation</th>\n",
              "      <th>status</th>\n",
              "      <th>type_1</th>\n",
              "      <th>type_2</th>\n",
              "      <th>total_points</th>\n",
              "      <th>hp</th>\n",
              "      <th>attack</th>\n",
              "      <th>defense</th>\n",
              "      <th>sp_attack</th>\n",
              "      <th>sp_defense</th>\n",
              "      <th>speed</th>\n",
              "    </tr>\n",
              "  </thead>\n",
              "  <tbody>\n",
              "    <tr>\n",
              "      <th>0</th>\n",
              "      <td>1</td>\n",
              "      <td>Bulbasaur</td>\n",
              "      <td>1</td>\n",
              "      <td>Normal</td>\n",
              "      <td>Grass</td>\n",
              "      <td>Poison</td>\n",
              "      <td>318.0</td>\n",
              "      <td>45.0</td>\n",
              "      <td>49.0</td>\n",
              "      <td>49.0</td>\n",
              "      <td>65.0</td>\n",
              "      <td>65.0</td>\n",
              "      <td>45.0</td>\n",
              "    </tr>\n",
              "    <tr>\n",
              "      <th>1</th>\n",
              "      <td>2</td>\n",
              "      <td>Ivysaur</td>\n",
              "      <td>1</td>\n",
              "      <td>Normal</td>\n",
              "      <td>Grass</td>\n",
              "      <td>Poison</td>\n",
              "      <td>405.0</td>\n",
              "      <td>60.0</td>\n",
              "      <td>62.0</td>\n",
              "      <td>63.0</td>\n",
              "      <td>80.0</td>\n",
              "      <td>80.0</td>\n",
              "      <td>60.0</td>\n",
              "    </tr>\n",
              "    <tr>\n",
              "      <th>2</th>\n",
              "      <td>3</td>\n",
              "      <td>Venusaur</td>\n",
              "      <td>1</td>\n",
              "      <td>Normal</td>\n",
              "      <td>Grass</td>\n",
              "      <td>Poison</td>\n",
              "      <td>525.0</td>\n",
              "      <td>80.0</td>\n",
              "      <td>82.0</td>\n",
              "      <td>83.0</td>\n",
              "      <td>100.0</td>\n",
              "      <td>100.0</td>\n",
              "      <td>80.0</td>\n",
              "    </tr>\n",
              "    <tr>\n",
              "      <th>3</th>\n",
              "      <td>3</td>\n",
              "      <td>Mega Venusaur</td>\n",
              "      <td>1</td>\n",
              "      <td>Normal</td>\n",
              "      <td>Grass</td>\n",
              "      <td>Poison</td>\n",
              "      <td>625.0</td>\n",
              "      <td>80.0</td>\n",
              "      <td>100.0</td>\n",
              "      <td>123.0</td>\n",
              "      <td>122.0</td>\n",
              "      <td>120.0</td>\n",
              "      <td>80.0</td>\n",
              "    </tr>\n",
              "    <tr>\n",
              "      <th>4</th>\n",
              "      <td>4</td>\n",
              "      <td>Charmander</td>\n",
              "      <td>1</td>\n",
              "      <td>Normal</td>\n",
              "      <td>Fire</td>\n",
              "      <td>NaN</td>\n",
              "      <td>309.0</td>\n",
              "      <td>39.0</td>\n",
              "      <td>52.0</td>\n",
              "      <td>43.0</td>\n",
              "      <td>60.0</td>\n",
              "      <td>50.0</td>\n",
              "      <td>65.0</td>\n",
              "    </tr>\n",
              "    <tr>\n",
              "      <th>...</th>\n",
              "      <td>...</td>\n",
              "      <td>...</td>\n",
              "      <td>...</td>\n",
              "      <td>...</td>\n",
              "      <td>...</td>\n",
              "      <td>...</td>\n",
              "      <td>...</td>\n",
              "      <td>...</td>\n",
              "      <td>...</td>\n",
              "      <td>...</td>\n",
              "      <td>...</td>\n",
              "      <td>...</td>\n",
              "      <td>...</td>\n",
              "    </tr>\n",
              "    <tr>\n",
              "      <th>1023</th>\n",
              "      <td>888</td>\n",
              "      <td>Zacian Hero of Many Battles</td>\n",
              "      <td>8</td>\n",
              "      <td>Legendary</td>\n",
              "      <td>Fairy</td>\n",
              "      <td>NaN</td>\n",
              "      <td>670.0</td>\n",
              "      <td>92.0</td>\n",
              "      <td>130.0</td>\n",
              "      <td>115.0</td>\n",
              "      <td>80.0</td>\n",
              "      <td>115.0</td>\n",
              "      <td>138.0</td>\n",
              "    </tr>\n",
              "    <tr>\n",
              "      <th>1024</th>\n",
              "      <td>889</td>\n",
              "      <td>Zamazenta Crowned Shield</td>\n",
              "      <td>8</td>\n",
              "      <td>Legendary</td>\n",
              "      <td>Fighting</td>\n",
              "      <td>Steel</td>\n",
              "      <td>720.0</td>\n",
              "      <td>92.0</td>\n",
              "      <td>130.0</td>\n",
              "      <td>145.0</td>\n",
              "      <td>80.0</td>\n",
              "      <td>145.0</td>\n",
              "      <td>128.0</td>\n",
              "    </tr>\n",
              "    <tr>\n",
              "      <th>1025</th>\n",
              "      <td>889</td>\n",
              "      <td>Zamazenta Hero of Many Battles</td>\n",
              "      <td>8</td>\n",
              "      <td>Legendary</td>\n",
              "      <td>Fighting</td>\n",
              "      <td>NaN</td>\n",
              "      <td>670.0</td>\n",
              "      <td>92.0</td>\n",
              "      <td>130.0</td>\n",
              "      <td>115.0</td>\n",
              "      <td>80.0</td>\n",
              "      <td>115.0</td>\n",
              "      <td>138.0</td>\n",
              "    </tr>\n",
              "    <tr>\n",
              "      <th>1026</th>\n",
              "      <td>890</td>\n",
              "      <td>Eternatus</td>\n",
              "      <td>8</td>\n",
              "      <td>Legendary</td>\n",
              "      <td>Poison</td>\n",
              "      <td>Dragon</td>\n",
              "      <td>690.0</td>\n",
              "      <td>140.0</td>\n",
              "      <td>85.0</td>\n",
              "      <td>95.0</td>\n",
              "      <td>145.0</td>\n",
              "      <td>95.0</td>\n",
              "      <td>130.0</td>\n",
              "    </tr>\n",
              "    <tr>\n",
              "      <th>1027</th>\n",
              "      <td>890</td>\n",
              "      <td>Eternatus Eternamax</td>\n",
              "      <td>8</td>\n",
              "      <td>Legendary</td>\n",
              "      <td>Poison</td>\n",
              "      <td>Dragon</td>\n",
              "      <td>1125.0</td>\n",
              "      <td>255.0</td>\n",
              "      <td>115.0</td>\n",
              "      <td>250.0</td>\n",
              "      <td>125.0</td>\n",
              "      <td>250.0</td>\n",
              "      <td>130.0</td>\n",
              "    </tr>\n",
              "  </tbody>\n",
              "</table>\n",
              "<p>1028 rows × 13 columns</p>\n",
              "</div>"
            ],
            "text/plain": [
              "      pokedex_number                            name  ...  sp_defense  speed\n",
              "0                  1                       Bulbasaur  ...        65.0   45.0\n",
              "1                  2                         Ivysaur  ...        80.0   60.0\n",
              "2                  3                        Venusaur  ...       100.0   80.0\n",
              "3                  3                   Mega Venusaur  ...       120.0   80.0\n",
              "4                  4                      Charmander  ...        50.0   65.0\n",
              "...              ...                             ...  ...         ...    ...\n",
              "1023             888     Zacian Hero of Many Battles  ...       115.0  138.0\n",
              "1024             889        Zamazenta Crowned Shield  ...       145.0  128.0\n",
              "1025             889  Zamazenta Hero of Many Battles  ...       115.0  138.0\n",
              "1026             890                       Eternatus  ...        95.0  130.0\n",
              "1027             890             Eternatus Eternamax  ...       250.0  130.0\n",
              "\n",
              "[1028 rows x 13 columns]"
            ]
          },
          "metadata": {
            "tags": []
          },
          "execution_count": 143
        }
      ]
    },
    {
      "cell_type": "code",
      "metadata": {
        "id": "QNmcoX-aVO83",
        "outputId": "080b4acf-15c6-4973-aaf1-c55be21ee9d7",
        "colab": {
          "base_uri": "https://localhost:8080/",
          "height": 34
        }
      },
      "source": [
        "newpkdx.status.unique()"
      ],
      "execution_count": null,
      "outputs": [
        {
          "output_type": "execute_result",
          "data": {
            "text/plain": [
              "array(['Normal', 'Sub Legendary', 'Legendary', 'Mythical'], dtype=object)"
            ]
          },
          "metadata": {
            "tags": []
          },
          "execution_count": 144
        }
      ]
    },
    {
      "cell_type": "markdown",
      "metadata": {
        "id": "D7eOfxUVVO88"
      },
      "source": [
        "El objetivo ahora será realizar intercambio de la variable categórica \"Status\" por una nueva que le asigne un número en lugar de texto"
      ]
    },
    {
      "cell_type": "code",
      "metadata": {
        "id": "39H4aT-LVO89"
      },
      "source": [
        "from sklearn.preprocessing import LabelEncoder\n",
        "lb_make = LabelEncoder()"
      ],
      "execution_count": null,
      "outputs": []
    },
    {
      "cell_type": "code",
      "metadata": {
        "id": "th4dgFo1X2W1",
        "outputId": "a8c1fb84-437e-48aa-e32b-d1464b42c735",
        "colab": {
          "base_uri": "https://localhost:8080/",
          "height": 34
        }
      },
      "source": [
        "newpkdx['status'] = lb_make.fit_transform(newpkdx['status'])\n",
        "print(newpkdx['status'].unique())"
      ],
      "execution_count": null,
      "outputs": [
        {
          "output_type": "stream",
          "text": [
            "[2 3 0 1]\n"
          ],
          "name": "stdout"
        }
      ]
    },
    {
      "cell_type": "code",
      "metadata": {
        "id": "5ChVjSKgefMZ",
        "outputId": "a2d954dd-8040-48bb-f730-d68b4a51570a",
        "colab": {
          "base_uri": "https://localhost:8080/",
          "height": 142
        }
      },
      "source": [
        "newpkdx.head(3)"
      ],
      "execution_count": null,
      "outputs": [
        {
          "output_type": "execute_result",
          "data": {
            "text/html": [
              "<div>\n",
              "<style scoped>\n",
              "    .dataframe tbody tr th:only-of-type {\n",
              "        vertical-align: middle;\n",
              "    }\n",
              "\n",
              "    .dataframe tbody tr th {\n",
              "        vertical-align: top;\n",
              "    }\n",
              "\n",
              "    .dataframe thead th {\n",
              "        text-align: right;\n",
              "    }\n",
              "</style>\n",
              "<table border=\"1\" class=\"dataframe\">\n",
              "  <thead>\n",
              "    <tr style=\"text-align: right;\">\n",
              "      <th></th>\n",
              "      <th>pokedex_number</th>\n",
              "      <th>name</th>\n",
              "      <th>generation</th>\n",
              "      <th>status</th>\n",
              "      <th>type_1</th>\n",
              "      <th>type_2</th>\n",
              "      <th>total_points</th>\n",
              "      <th>hp</th>\n",
              "      <th>attack</th>\n",
              "      <th>defense</th>\n",
              "      <th>sp_attack</th>\n",
              "      <th>sp_defense</th>\n",
              "      <th>speed</th>\n",
              "    </tr>\n",
              "  </thead>\n",
              "  <tbody>\n",
              "    <tr>\n",
              "      <th>0</th>\n",
              "      <td>1</td>\n",
              "      <td>Bulbasaur</td>\n",
              "      <td>1</td>\n",
              "      <td>2</td>\n",
              "      <td>Grass</td>\n",
              "      <td>Poison</td>\n",
              "      <td>318.0</td>\n",
              "      <td>45.0</td>\n",
              "      <td>49.0</td>\n",
              "      <td>49.0</td>\n",
              "      <td>65.0</td>\n",
              "      <td>65.0</td>\n",
              "      <td>45.0</td>\n",
              "    </tr>\n",
              "    <tr>\n",
              "      <th>1</th>\n",
              "      <td>2</td>\n",
              "      <td>Ivysaur</td>\n",
              "      <td>1</td>\n",
              "      <td>2</td>\n",
              "      <td>Grass</td>\n",
              "      <td>Poison</td>\n",
              "      <td>405.0</td>\n",
              "      <td>60.0</td>\n",
              "      <td>62.0</td>\n",
              "      <td>63.0</td>\n",
              "      <td>80.0</td>\n",
              "      <td>80.0</td>\n",
              "      <td>60.0</td>\n",
              "    </tr>\n",
              "    <tr>\n",
              "      <th>2</th>\n",
              "      <td>3</td>\n",
              "      <td>Venusaur</td>\n",
              "      <td>1</td>\n",
              "      <td>2</td>\n",
              "      <td>Grass</td>\n",
              "      <td>Poison</td>\n",
              "      <td>525.0</td>\n",
              "      <td>80.0</td>\n",
              "      <td>82.0</td>\n",
              "      <td>83.0</td>\n",
              "      <td>100.0</td>\n",
              "      <td>100.0</td>\n",
              "      <td>80.0</td>\n",
              "    </tr>\n",
              "  </tbody>\n",
              "</table>\n",
              "</div>"
            ],
            "text/plain": [
              "   pokedex_number       name  generation  ...  sp_attack sp_defense speed\n",
              "0               1  Bulbasaur           1  ...       65.0       65.0  45.0\n",
              "1               2    Ivysaur           1  ...       80.0       80.0  60.0\n",
              "2               3   Venusaur           1  ...      100.0      100.0  80.0\n",
              "\n",
              "[3 rows x 13 columns]"
            ]
          },
          "metadata": {
            "tags": []
          },
          "execution_count": 147
        }
      ]
    },
    {
      "cell_type": "code",
      "metadata": {
        "id": "GmAEMGlaYyRU",
        "outputId": "1de37627-0ece-4973-a1cd-d9089900c8d0",
        "colab": {
          "base_uri": "https://localhost:8080/",
          "height": 359
        }
      },
      "source": [
        "raw = newpkdx.copy()\n",
        "raw.dropna(axis=0, subset=['total_points'], inplace=True)\n",
        "raw.dropna(axis=0, subset=['hp'], inplace=True)\n",
        "raw.dropna(axis=0, subset=['attack'], inplace=True)\n",
        "raw.dropna(axis=0, subset=['defense'], inplace=True)\n",
        "raw.dropna(axis=0, subset=['sp_attack'], inplace=True)\n",
        "raw.dropna(axis=0, subset=['sp_defense'], inplace=True)\n",
        "raw.dropna(axis=0, subset=['speed'], inplace=True)\n",
        "raw.reset_index()\n",
        "data=raw[['total_points', 'hp','attack','defense' ,'sp_attack' ,'sp_defense', 'speed']]\n",
        "data.head(10)"
      ],
      "execution_count": null,
      "outputs": [
        {
          "output_type": "execute_result",
          "data": {
            "text/html": [
              "<div>\n",
              "<style scoped>\n",
              "    .dataframe tbody tr th:only-of-type {\n",
              "        vertical-align: middle;\n",
              "    }\n",
              "\n",
              "    .dataframe tbody tr th {\n",
              "        vertical-align: top;\n",
              "    }\n",
              "\n",
              "    .dataframe thead th {\n",
              "        text-align: right;\n",
              "    }\n",
              "</style>\n",
              "<table border=\"1\" class=\"dataframe\">\n",
              "  <thead>\n",
              "    <tr style=\"text-align: right;\">\n",
              "      <th></th>\n",
              "      <th>total_points</th>\n",
              "      <th>hp</th>\n",
              "      <th>attack</th>\n",
              "      <th>defense</th>\n",
              "      <th>sp_attack</th>\n",
              "      <th>sp_defense</th>\n",
              "      <th>speed</th>\n",
              "    </tr>\n",
              "  </thead>\n",
              "  <tbody>\n",
              "    <tr>\n",
              "      <th>0</th>\n",
              "      <td>318.0</td>\n",
              "      <td>45.0</td>\n",
              "      <td>49.0</td>\n",
              "      <td>49.0</td>\n",
              "      <td>65.0</td>\n",
              "      <td>65.0</td>\n",
              "      <td>45.0</td>\n",
              "    </tr>\n",
              "    <tr>\n",
              "      <th>1</th>\n",
              "      <td>405.0</td>\n",
              "      <td>60.0</td>\n",
              "      <td>62.0</td>\n",
              "      <td>63.0</td>\n",
              "      <td>80.0</td>\n",
              "      <td>80.0</td>\n",
              "      <td>60.0</td>\n",
              "    </tr>\n",
              "    <tr>\n",
              "      <th>2</th>\n",
              "      <td>525.0</td>\n",
              "      <td>80.0</td>\n",
              "      <td>82.0</td>\n",
              "      <td>83.0</td>\n",
              "      <td>100.0</td>\n",
              "      <td>100.0</td>\n",
              "      <td>80.0</td>\n",
              "    </tr>\n",
              "    <tr>\n",
              "      <th>3</th>\n",
              "      <td>625.0</td>\n",
              "      <td>80.0</td>\n",
              "      <td>100.0</td>\n",
              "      <td>123.0</td>\n",
              "      <td>122.0</td>\n",
              "      <td>120.0</td>\n",
              "      <td>80.0</td>\n",
              "    </tr>\n",
              "    <tr>\n",
              "      <th>4</th>\n",
              "      <td>309.0</td>\n",
              "      <td>39.0</td>\n",
              "      <td>52.0</td>\n",
              "      <td>43.0</td>\n",
              "      <td>60.0</td>\n",
              "      <td>50.0</td>\n",
              "      <td>65.0</td>\n",
              "    </tr>\n",
              "    <tr>\n",
              "      <th>5</th>\n",
              "      <td>405.0</td>\n",
              "      <td>58.0</td>\n",
              "      <td>64.0</td>\n",
              "      <td>58.0</td>\n",
              "      <td>80.0</td>\n",
              "      <td>65.0</td>\n",
              "      <td>80.0</td>\n",
              "    </tr>\n",
              "    <tr>\n",
              "      <th>6</th>\n",
              "      <td>534.0</td>\n",
              "      <td>78.0</td>\n",
              "      <td>84.0</td>\n",
              "      <td>78.0</td>\n",
              "      <td>109.0</td>\n",
              "      <td>85.0</td>\n",
              "      <td>100.0</td>\n",
              "    </tr>\n",
              "    <tr>\n",
              "      <th>7</th>\n",
              "      <td>634.0</td>\n",
              "      <td>78.0</td>\n",
              "      <td>130.0</td>\n",
              "      <td>111.0</td>\n",
              "      <td>130.0</td>\n",
              "      <td>85.0</td>\n",
              "      <td>100.0</td>\n",
              "    </tr>\n",
              "    <tr>\n",
              "      <th>8</th>\n",
              "      <td>634.0</td>\n",
              "      <td>78.0</td>\n",
              "      <td>104.0</td>\n",
              "      <td>78.0</td>\n",
              "      <td>159.0</td>\n",
              "      <td>115.0</td>\n",
              "      <td>100.0</td>\n",
              "    </tr>\n",
              "    <tr>\n",
              "      <th>9</th>\n",
              "      <td>314.0</td>\n",
              "      <td>44.0</td>\n",
              "      <td>48.0</td>\n",
              "      <td>65.0</td>\n",
              "      <td>50.0</td>\n",
              "      <td>64.0</td>\n",
              "      <td>43.0</td>\n",
              "    </tr>\n",
              "  </tbody>\n",
              "</table>\n",
              "</div>"
            ],
            "text/plain": [
              "   total_points    hp  attack  defense  sp_attack  sp_defense  speed\n",
              "0         318.0  45.0    49.0     49.0       65.0        65.0   45.0\n",
              "1         405.0  60.0    62.0     63.0       80.0        80.0   60.0\n",
              "2         525.0  80.0    82.0     83.0      100.0       100.0   80.0\n",
              "3         625.0  80.0   100.0    123.0      122.0       120.0   80.0\n",
              "4         309.0  39.0    52.0     43.0       60.0        50.0   65.0\n",
              "5         405.0  58.0    64.0     58.0       80.0        65.0   80.0\n",
              "6         534.0  78.0    84.0     78.0      109.0        85.0  100.0\n",
              "7         634.0  78.0   130.0    111.0      130.0        85.0  100.0\n",
              "8         634.0  78.0   104.0     78.0      159.0       115.0  100.0\n",
              "9         314.0  44.0    48.0     65.0       50.0        64.0   43.0"
            ]
          },
          "metadata": {
            "tags": []
          },
          "execution_count": 148
        }
      ]
    },
    {
      "cell_type": "markdown",
      "metadata": {
        "id": "y7LsVBz3VO9C"
      },
      "source": [
        "Posteriormente, deberán hacer el procedimiento \"normal\" para los siguientes algoritmos\n",
        "* Regresion Logística\n",
        "* SVM (con kernel rbf - Gaussiano o radial)\n",
        "* Decision Tree\n",
        "* Random Forest"
      ]
    },
    {
      "cell_type": "code",
      "metadata": {
        "id": "8N8XtAljbwkq",
        "outputId": "2da8757e-d196-4e89-93b4-5e2bae25b445",
        "colab": {
          "base_uri": "https://localhost:8080/",
          "height": 204
        }
      },
      "source": [
        "from sklearn.preprocessing import StandardScaler\n",
        "from sklearn.model_selection import train_test_split\n",
        "\n",
        "X=data\n",
        "y=raw[\"status\"]\n",
        "\n",
        "#scaler=StandardScaler().fit(X)   # Z-scaling the data\n",
        "#X=scaler.transform(X)\n",
        "y=y.astype(int)\n",
        "\n",
        "X_train, X_test, y_train, y_test = train_test_split(X,y,random_state=69,test_size=0.33)\n",
        "pd.DataFrame(X_train).head()"
      ],
      "execution_count": null,
      "outputs": [
        {
          "output_type": "execute_result",
          "data": {
            "text/html": [
              "<div>\n",
              "<style scoped>\n",
              "    .dataframe tbody tr th:only-of-type {\n",
              "        vertical-align: middle;\n",
              "    }\n",
              "\n",
              "    .dataframe tbody tr th {\n",
              "        vertical-align: top;\n",
              "    }\n",
              "\n",
              "    .dataframe thead th {\n",
              "        text-align: right;\n",
              "    }\n",
              "</style>\n",
              "<table border=\"1\" class=\"dataframe\">\n",
              "  <thead>\n",
              "    <tr style=\"text-align: right;\">\n",
              "      <th></th>\n",
              "      <th>total_points</th>\n",
              "      <th>hp</th>\n",
              "      <th>attack</th>\n",
              "      <th>defense</th>\n",
              "      <th>sp_attack</th>\n",
              "      <th>sp_defense</th>\n",
              "      <th>speed</th>\n",
              "    </tr>\n",
              "  </thead>\n",
              "  <tbody>\n",
              "    <tr>\n",
              "      <th>357</th>\n",
              "      <td>380.0</td>\n",
              "      <td>50.0</td>\n",
              "      <td>85.0</td>\n",
              "      <td>85.0</td>\n",
              "      <td>55.0</td>\n",
              "      <td>55.0</td>\n",
              "      <td>50.0</td>\n",
              "    </tr>\n",
              "    <tr>\n",
              "      <th>438</th>\n",
              "      <td>300.0</td>\n",
              "      <td>45.0</td>\n",
              "      <td>75.0</td>\n",
              "      <td>60.0</td>\n",
              "      <td>40.0</td>\n",
              "      <td>30.0</td>\n",
              "      <td>50.0</td>\n",
              "    </tr>\n",
              "    <tr>\n",
              "      <th>1024</th>\n",
              "      <td>720.0</td>\n",
              "      <td>92.0</td>\n",
              "      <td>130.0</td>\n",
              "      <td>145.0</td>\n",
              "      <td>80.0</td>\n",
              "      <td>145.0</td>\n",
              "      <td>128.0</td>\n",
              "    </tr>\n",
              "    <tr>\n",
              "      <th>68</th>\n",
              "      <td>290.0</td>\n",
              "      <td>40.0</td>\n",
              "      <td>35.0</td>\n",
              "      <td>35.0</td>\n",
              "      <td>50.0</td>\n",
              "      <td>40.0</td>\n",
              "      <td>90.0</td>\n",
              "    </tr>\n",
              "    <tr>\n",
              "      <th>406</th>\n",
              "      <td>355.0</td>\n",
              "      <td>66.0</td>\n",
              "      <td>41.0</td>\n",
              "      <td>77.0</td>\n",
              "      <td>61.0</td>\n",
              "      <td>87.0</td>\n",
              "      <td>23.0</td>\n",
              "    </tr>\n",
              "  </tbody>\n",
              "</table>\n",
              "</div>"
            ],
            "text/plain": [
              "      total_points    hp  attack  defense  sp_attack  sp_defense  speed\n",
              "357          380.0  50.0    85.0     85.0       55.0        55.0   50.0\n",
              "438          300.0  45.0    75.0     60.0       40.0        30.0   50.0\n",
              "1024         720.0  92.0   130.0    145.0       80.0       145.0  128.0\n",
              "68           290.0  40.0    35.0     35.0       50.0        40.0   90.0\n",
              "406          355.0  66.0    41.0     77.0       61.0        87.0   23.0"
            ]
          },
          "metadata": {
            "tags": []
          },
          "execution_count": 149
        }
      ]
    },
    {
      "cell_type": "code",
      "metadata": {
        "id": "xnlhCL9dbqHJ",
        "outputId": "11a38ca2-6b9d-4b76-effd-63fa20b4e5cc",
        "colab": {
          "base_uri": "https://localhost:8080/",
          "height": 419
        }
      },
      "source": [
        "newpkdx2 = data\n",
        "newpkdx2"
      ],
      "execution_count": null,
      "outputs": [
        {
          "output_type": "execute_result",
          "data": {
            "text/html": [
              "<div>\n",
              "<style scoped>\n",
              "    .dataframe tbody tr th:only-of-type {\n",
              "        vertical-align: middle;\n",
              "    }\n",
              "\n",
              "    .dataframe tbody tr th {\n",
              "        vertical-align: top;\n",
              "    }\n",
              "\n",
              "    .dataframe thead th {\n",
              "        text-align: right;\n",
              "    }\n",
              "</style>\n",
              "<table border=\"1\" class=\"dataframe\">\n",
              "  <thead>\n",
              "    <tr style=\"text-align: right;\">\n",
              "      <th></th>\n",
              "      <th>total_points</th>\n",
              "      <th>hp</th>\n",
              "      <th>attack</th>\n",
              "      <th>defense</th>\n",
              "      <th>sp_attack</th>\n",
              "      <th>sp_defense</th>\n",
              "      <th>speed</th>\n",
              "    </tr>\n",
              "  </thead>\n",
              "  <tbody>\n",
              "    <tr>\n",
              "      <th>0</th>\n",
              "      <td>318.0</td>\n",
              "      <td>45.0</td>\n",
              "      <td>49.0</td>\n",
              "      <td>49.0</td>\n",
              "      <td>65.0</td>\n",
              "      <td>65.0</td>\n",
              "      <td>45.0</td>\n",
              "    </tr>\n",
              "    <tr>\n",
              "      <th>1</th>\n",
              "      <td>405.0</td>\n",
              "      <td>60.0</td>\n",
              "      <td>62.0</td>\n",
              "      <td>63.0</td>\n",
              "      <td>80.0</td>\n",
              "      <td>80.0</td>\n",
              "      <td>60.0</td>\n",
              "    </tr>\n",
              "    <tr>\n",
              "      <th>2</th>\n",
              "      <td>525.0</td>\n",
              "      <td>80.0</td>\n",
              "      <td>82.0</td>\n",
              "      <td>83.0</td>\n",
              "      <td>100.0</td>\n",
              "      <td>100.0</td>\n",
              "      <td>80.0</td>\n",
              "    </tr>\n",
              "    <tr>\n",
              "      <th>3</th>\n",
              "      <td>625.0</td>\n",
              "      <td>80.0</td>\n",
              "      <td>100.0</td>\n",
              "      <td>123.0</td>\n",
              "      <td>122.0</td>\n",
              "      <td>120.0</td>\n",
              "      <td>80.0</td>\n",
              "    </tr>\n",
              "    <tr>\n",
              "      <th>4</th>\n",
              "      <td>309.0</td>\n",
              "      <td>39.0</td>\n",
              "      <td>52.0</td>\n",
              "      <td>43.0</td>\n",
              "      <td>60.0</td>\n",
              "      <td>50.0</td>\n",
              "      <td>65.0</td>\n",
              "    </tr>\n",
              "    <tr>\n",
              "      <th>...</th>\n",
              "      <td>...</td>\n",
              "      <td>...</td>\n",
              "      <td>...</td>\n",
              "      <td>...</td>\n",
              "      <td>...</td>\n",
              "      <td>...</td>\n",
              "      <td>...</td>\n",
              "    </tr>\n",
              "    <tr>\n",
              "      <th>1023</th>\n",
              "      <td>670.0</td>\n",
              "      <td>92.0</td>\n",
              "      <td>130.0</td>\n",
              "      <td>115.0</td>\n",
              "      <td>80.0</td>\n",
              "      <td>115.0</td>\n",
              "      <td>138.0</td>\n",
              "    </tr>\n",
              "    <tr>\n",
              "      <th>1024</th>\n",
              "      <td>720.0</td>\n",
              "      <td>92.0</td>\n",
              "      <td>130.0</td>\n",
              "      <td>145.0</td>\n",
              "      <td>80.0</td>\n",
              "      <td>145.0</td>\n",
              "      <td>128.0</td>\n",
              "    </tr>\n",
              "    <tr>\n",
              "      <th>1025</th>\n",
              "      <td>670.0</td>\n",
              "      <td>92.0</td>\n",
              "      <td>130.0</td>\n",
              "      <td>115.0</td>\n",
              "      <td>80.0</td>\n",
              "      <td>115.0</td>\n",
              "      <td>138.0</td>\n",
              "    </tr>\n",
              "    <tr>\n",
              "      <th>1026</th>\n",
              "      <td>690.0</td>\n",
              "      <td>140.0</td>\n",
              "      <td>85.0</td>\n",
              "      <td>95.0</td>\n",
              "      <td>145.0</td>\n",
              "      <td>95.0</td>\n",
              "      <td>130.0</td>\n",
              "    </tr>\n",
              "    <tr>\n",
              "      <th>1027</th>\n",
              "      <td>1125.0</td>\n",
              "      <td>255.0</td>\n",
              "      <td>115.0</td>\n",
              "      <td>250.0</td>\n",
              "      <td>125.0</td>\n",
              "      <td>250.0</td>\n",
              "      <td>130.0</td>\n",
              "    </tr>\n",
              "  </tbody>\n",
              "</table>\n",
              "<p>1028 rows × 7 columns</p>\n",
              "</div>"
            ],
            "text/plain": [
              "      total_points     hp  attack  defense  sp_attack  sp_defense  speed\n",
              "0            318.0   45.0    49.0     49.0       65.0        65.0   45.0\n",
              "1            405.0   60.0    62.0     63.0       80.0        80.0   60.0\n",
              "2            525.0   80.0    82.0     83.0      100.0       100.0   80.0\n",
              "3            625.0   80.0   100.0    123.0      122.0       120.0   80.0\n",
              "4            309.0   39.0    52.0     43.0       60.0        50.0   65.0\n",
              "...            ...    ...     ...      ...        ...         ...    ...\n",
              "1023         670.0   92.0   130.0    115.0       80.0       115.0  138.0\n",
              "1024         720.0   92.0   130.0    145.0       80.0       145.0  128.0\n",
              "1025         670.0   92.0   130.0    115.0       80.0       115.0  138.0\n",
              "1026         690.0  140.0    85.0     95.0      145.0        95.0  130.0\n",
              "1027        1125.0  255.0   115.0    250.0      125.0       250.0  130.0\n",
              "\n",
              "[1028 rows x 7 columns]"
            ]
          },
          "metadata": {
            "tags": []
          },
          "execution_count": 150
        }
      ]
    },
    {
      "cell_type": "code",
      "metadata": {
        "id": "Enz9DvnVa4RJ"
      },
      "source": [
        "test = np.array([[580.0,90.0,85.0,100.0,95.0,125.0,85.0]])                  # Semi-Legendary\n",
        "test2 = np.array([[720.0,120.0,120.0,120.0,120.0,120.0,120.0]])             # Legendary\n",
        "magi = np.array([[200.0, \t20.0, \t10.0, \t55.0, \t15.0, \t20.0, \t80.0]])   # Normal"
      ],
      "execution_count": null,
      "outputs": []
    },
    {
      "cell_type": "markdown",
      "metadata": {
        "id": "opcVoCO-ZSOy"
      },
      "source": [
        "## Regresión"
      ]
    },
    {
      "cell_type": "code",
      "metadata": {
        "id": "zzcXcTDmj4Gz",
        "outputId": "50a115cf-ed53-4ec1-c05b-f6abe85f4f81",
        "colab": {
          "base_uri": "https://localhost:8080/",
          "height": 85
        }
      },
      "source": [
        "from sklearn.linear_model import LogisticRegression\n",
        "clf_lr = LogisticRegression()\n",
        "clf_lr = clf_rf.fit(X_train, y_train)\n",
        "prev_lr = clf_rf.predict(X_test)\n",
        "print(\"Accuracy \", sum(pred_svm==y_test)/y_test.shape[0]*100)\n",
        "#Linear Regression Prediction\n",
        "print(clf_lr.predict(test)[0])\n",
        "print(clf_lr.predict(test2)[0])\n",
        "print(clf_lr.predict(magi)[0])"
      ],
      "execution_count": null,
      "outputs": [
        {
          "output_type": "stream",
          "text": [
            "Accuracy  92.05882352941175\n",
            "3\n",
            "0\n",
            "2\n"
          ],
          "name": "stdout"
        }
      ]
    },
    {
      "cell_type": "markdown",
      "metadata": {
        "id": "Z_fj33pYbAUo"
      },
      "source": [
        "## SVM\n"
      ]
    },
    {
      "cell_type": "code",
      "metadata": {
        "id": "ay1nsBsIbGl4",
        "outputId": "f6a8decf-f3e3-4bac-aa89-7ac603b26479",
        "colab": {
          "base_uri": "https://localhost:8080/",
          "height": 102
        }
      },
      "source": [
        "from sklearn import svm\n",
        "clf_svm = svm.SVC()\n",
        "clf_svm = clf_svm.fit(X_train,y_train)\n",
        "pred_svm = clf_svm.predict(X_test)\n",
        "print(\"Accuracy \", sum(pred_svm==y_test)/y_test.shape[0]*100)\n",
        "# SVM Prediction\n",
        "print(\"SVM\")\n",
        "print(clf_svm.predict(test)[0])\n",
        "print(clf_svm.predict(test2)[0])\n",
        "print(clf_svm.predict(magi)[0])"
      ],
      "execution_count": null,
      "outputs": [
        {
          "output_type": "stream",
          "text": [
            "Accuracy  92.05882352941175\n",
            "SVM\n",
            "2\n",
            "0\n",
            "2\n"
          ],
          "name": "stdout"
        }
      ]
    },
    {
      "cell_type": "markdown",
      "metadata": {
        "id": "0hjGmvGsbGA3"
      },
      "source": [
        "## Decision Tree"
      ]
    },
    {
      "cell_type": "code",
      "metadata": {
        "id": "j8tnG476bJwl",
        "outputId": "1748a92e-bd55-4dac-aa54-6206dbd35c35",
        "colab": {
          "base_uri": "https://localhost:8080/",
          "height": 102
        }
      },
      "source": [
        "from sklearn import tree\n",
        "clf_dt = tree.DecisionTreeClassifier()\n",
        "clf_dt = clf_dt.fit(X_train, y_train)\n",
        "pred_dt = clf_dt.predict(X_test)\n",
        "print(\"Accuracy \", sum(pred_dt==y_test)/y_test.shape[0]*100)\n",
        "# Decision Tree Prediction\n",
        "print(\"Decision Tree\")\n",
        "print(clf_dt.predict(test)[0])\n",
        "print(clf_dt.predict(test2)[0])\n",
        "print(clf_dt.predict(magi)[0])"
      ],
      "execution_count": null,
      "outputs": [
        {
          "output_type": "stream",
          "text": [
            "Accuracy  94.70588235294117\n",
            "Decision Tree\n",
            "3\n",
            "0\n",
            "2\n"
          ],
          "name": "stdout"
        }
      ]
    },
    {
      "cell_type": "markdown",
      "metadata": {
        "id": "R2ZZILaIbKC1"
      },
      "source": [
        "## Random Forest"
      ]
    },
    {
      "cell_type": "code",
      "metadata": {
        "id": "C4KU0RrIdJV-",
        "outputId": "217ee154-c0e1-4a8e-da07-e046182f329c",
        "colab": {
          "base_uri": "https://localhost:8080/",
          "height": 102
        }
      },
      "source": [
        "from sklearn.ensemble import RandomForestClassifier\n",
        "clf_rf = RandomForestClassifier(n_estimators = 100, max_depth = 5)\n",
        "clf_rf = clf_rf.fit(X_train, y_train)\n",
        "pred_rf = clf_rf.predict(X_test)\n",
        "print(\"Accuracy = \", sum(pred_rf==y_test)/y_test.shape[0]*100)\n",
        "\n",
        "# Random Forest Prediction\n",
        "print(\"Random Forest\")\n",
        "print(clf_rf.predict(test)[0])\n",
        "print(clf_rf.predict(test2)[0])\n",
        "print(clf_rf.predict(magi)[0])"
      ],
      "execution_count": null,
      "outputs": [
        {
          "output_type": "stream",
          "text": [
            "Accuracy =  93.23529411764706\n",
            "Random Forest\n",
            "3\n",
            "0\n",
            "2\n"
          ],
          "name": "stdout"
        }
      ]
    },
    {
      "cell_type": "markdown",
      "metadata": {
        "id": "zqnf1zMnVO9E"
      },
      "source": [
        "## ¿Cuál de los algoritmos podrá decir cual es el tipo correcto de los dos pokemon?"
      ]
    },
    {
      "cell_type": "markdown",
      "metadata": {
        "id": "GOFjVfylVO9F"
      },
      "source": [
        "### Impriman los Accuracy de la siguiente manera para cada modelo"
      ]
    },
    {
      "cell_type": "code",
      "metadata": {
        "id": "JO_vrHcxVO9G",
        "outputId": "b93a7775-6206-4388-c85b-eec855b0cab0",
        "colab": {
          "base_uri": "https://localhost:8080/",
          "height": 180
        }
      },
      "source": [
        "pd.DataFrame({\"Accurancy on Train\":[accuracy_score()],\n",
        "    \"Accurancy on Test\":[accuracy_score()]})"
      ],
      "execution_count": null,
      "outputs": [
        {
          "output_type": "error",
          "ename": "NameError",
          "evalue": "ignored",
          "traceback": [
            "\u001b[0;31m---------------------------------------------------------------------------\u001b[0m",
            "\u001b[0;31mNameError\u001b[0m                                 Traceback (most recent call last)",
            "\u001b[0;32m<ipython-input-155-522ac19b1331>\u001b[0m in \u001b[0;36m<module>\u001b[0;34m()\u001b[0m\n\u001b[0;32m----> 1\u001b[0;31m pd.DataFrame({\"Accurancy on Train\":[accuracy_score()],\n\u001b[0m\u001b[1;32m      2\u001b[0m     \"Accurancy on Test\":[accuracy_score()]})\n",
            "\u001b[0;31mNameError\u001b[0m: name 'accuracy_score' is not defined"
          ]
        }
      ]
    },
    {
      "cell_type": "markdown",
      "metadata": {
        "id": "7GU_FdITVO9K"
      },
      "source": [
        "### Probemos ahora los modelos!"
      ]
    },
    {
      "cell_type": "code",
      "metadata": {
        "id": "94iZcDyFVO9K"
      },
      "source": [
        "\n",
        "\n",
        "\n",
        "\n",
        "\n",
        "\n",
        "\n"
      ],
      "execution_count": null,
      "outputs": []
    },
    {
      "cell_type": "code",
      "metadata": {
        "id": "fz-sRqvvhnQX"
      },
      "source": [
        ""
      ],
      "execution_count": null,
      "outputs": []
    },
    {
      "cell_type": "code",
      "metadata": {
        "id": "t7RqXQXLeMiy"
      },
      "source": [
        ""
      ],
      "execution_count": null,
      "outputs": []
    },
    {
      "cell_type": "markdown",
      "metadata": {
        "id": "eJgk-6x3VO9P"
      },
      "source": [
        "### ¿Alguno mejora si aplicamos CV?"
      ]
    },
    {
      "cell_type": "code",
      "metadata": {
        "id": "U7PgTSIQVO9R"
      },
      "source": [
        "from sklearn.model_selection import KFold\n",
        "kf = KFold(n_splits=5, shuffle=True, random_state=123)\n",
        "i = 1"
      ],
      "execution_count": null,
      "outputs": []
    },
    {
      "cell_type": "code",
      "metadata": {
        "id": "h85CgoLGVO9V"
      },
      "source": [
        ""
      ],
      "execution_count": null,
      "outputs": []
    },
    {
      "cell_type": "code",
      "metadata": {
        "id": "Gnw6tzzYVO9Y"
      },
      "source": [
        ""
      ],
      "execution_count": null,
      "outputs": []
    },
    {
      "cell_type": "markdown",
      "metadata": {
        "id": "Ydjx1FGzVO9d"
      },
      "source": [
        "# Recordemos que estamos ante un problema de desbalance de clases muy intenso!"
      ]
    },
    {
      "cell_type": "code",
      "metadata": {
        "id": "eyl6i6fDVO9e"
      },
      "source": [
        ""
      ],
      "execution_count": null,
      "outputs": []
    },
    {
      "cell_type": "code",
      "metadata": {
        "id": "RjDvN2K2VO9k"
      },
      "source": [
        ""
      ],
      "execution_count": null,
      "outputs": []
    }
  ]
}